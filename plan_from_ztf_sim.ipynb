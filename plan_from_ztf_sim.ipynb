{
 "cells": [
  {
   "cell_type": "code",
   "execution_count": 1,
   "metadata": {
    "collapsed": false
   },
   "outputs": [],
   "source": [
    "import warnings\n",
    "## No annoying warnings\n",
    "warnings.filterwarnings('ignore')\n",
    "\n",
    "import numpy as np\n",
    "import matplotlib.pyplot as plt\n",
    "import simsurvey.cadence as simul\n",
    "\n",
    "import simsurvey_tools as sst"
   ]
  },
  {
   "cell_type": "code",
   "execution_count": 3,
   "metadata": {
    "collapsed": false
   },
   "outputs": [
    {
     "name": "stdout",
     "output_type": "stream",
     "text": [
      "band    skynoise   field       RA           time        Dec   \n",
      "---- ------------- ----- ------------- ------------- ---------\n",
      "desr 796.214341107   620        107.75 57467.1255168  24.83077\n",
      "desr 796.214341107   619        100.25 57467.1261806  24.83077\n",
      "desr 796.214341107   667     104.65217 57467.1266981  31.75385\n",
      "desr 796.214341107   618 92.7499999997 57467.1272231  24.83077\n",
      "desr 796.214341107   617 85.2500000003 57467.1277515  24.83077\n",
      "desr 796.214341107   616 77.7500000003 57467.1282467  24.83077\n",
      "desr 796.214341107   616 77.7500000003 57467.1287097  24.83077\n",
      "desr 796.214341107   664 81.1739100001 57467.1292454  31.75385\n",
      "desr 796.214341107   663 73.3478299998 57467.1297404  31.75385\n",
      "desr 796.214341107   709      80.42857 57467.1302849  38.67692\n",
      " ...           ...   ...           ...           ...       ...\n",
      "desg 796.214341107   438     249.58824  57496.501764  -2.86154\n",
      "desg 796.214341107   438     249.58824  57496.502227  -2.86154\n",
      "desg 796.214341107   343         297.8 57496.5030147 -16.70769\n",
      "desg 796.214341107   343         297.8 57496.5034777 -16.70769\n",
      "desg 796.214341107   499     320.17647 57496.5041294   4.06154\n",
      "desg 796.214341107   650        332.75 57496.5047811  24.83077\n",
      "desg 796.214341107   552     334.29412  57496.505366  10.98462\n",
      "desg 796.214341107   501     334.29412 57496.5058835   4.06154\n",
      "desg 796.214341107   553     341.35294  57496.506401  10.98462\n",
      "desg 796.214341107   652        347.75 57496.5069859  24.83077\n",
      "desg 796.214341107   741     354.71429 57496.5075709  38.67692\n",
      "Length = 7364 rows\n"
     ]
    }
   ],
   "source": [
    "# Load \n",
    "fields = sst.load_ztf_fields()\n",
    "plan = simul.SurveyPlan(fields=fields, load_opsim='/home/ufeindt/data/ZTF/long.db', \n",
    "                        band_dict={'1': 'desg', '2': 'desr'})"
   ]
  },
  {
   "cell_type": "code",
   "execution_count": 4,
   "metadata": {
    "collapsed": false
   },
   "outputs": [
    {
     "data": {
      "text/html": [
       "&lt;Table length=7364&gt;\n",
       "<table id=\"table140206542334288\">\n",
       "<thead><tr><th>band</th><th>skynoise</th><th>field</th><th>RA</th><th>time</th><th>Dec</th></tr></thead>\n",
       "<thead><tr><th>str4</th><th>float64</th><th>int64</th><th>float64</th><th>float64</th><th>float64</th></tr></thead>\n",
       "<tr><td>desr</td><td>796.214341107</td><td>620</td><td>107.75</td><td>57467.1255168</td><td>24.83077</td></tr>\n",
       "<tr><td>desr</td><td>796.214341107</td><td>619</td><td>100.25</td><td>57467.1261806</td><td>24.83077</td></tr>\n",
       "<tr><td>desr</td><td>796.214341107</td><td>667</td><td>104.65217</td><td>57467.1266981</td><td>31.75385</td></tr>\n",
       "<tr><td>desr</td><td>796.214341107</td><td>618</td><td>92.7499999997</td><td>57467.1272231</td><td>24.83077</td></tr>\n",
       "<tr><td>desr</td><td>796.214341107</td><td>617</td><td>85.2500000003</td><td>57467.1277515</td><td>24.83077</td></tr>\n",
       "<tr><td>desr</td><td>796.214341107</td><td>616</td><td>77.7500000003</td><td>57467.1282467</td><td>24.83077</td></tr>\n",
       "<tr><td>desr</td><td>796.214341107</td><td>616</td><td>77.7500000003</td><td>57467.1287097</td><td>24.83077</td></tr>\n",
       "<tr><td>desr</td><td>796.214341107</td><td>664</td><td>81.1739100001</td><td>57467.1292454</td><td>31.75385</td></tr>\n",
       "<tr><td>desr</td><td>796.214341107</td><td>663</td><td>73.3478299998</td><td>57467.1297404</td><td>31.75385</td></tr>\n",
       "<tr><td>desr</td><td>796.214341107</td><td>709</td><td>80.42857</td><td>57467.1302849</td><td>38.67692</td></tr>\n",
       "<tr><td>...</td><td>...</td><td>...</td><td>...</td><td>...</td><td>...</td></tr>\n",
       "<tr><td>desg</td><td>796.214341107</td><td>438</td><td>249.58824</td><td>57496.502227</td><td>-2.86154</td></tr>\n",
       "<tr><td>desg</td><td>796.214341107</td><td>343</td><td>297.8</td><td>57496.5030147</td><td>-16.70769</td></tr>\n",
       "<tr><td>desg</td><td>796.214341107</td><td>343</td><td>297.8</td><td>57496.5034777</td><td>-16.70769</td></tr>\n",
       "<tr><td>desg</td><td>796.214341107</td><td>499</td><td>320.17647</td><td>57496.5041294</td><td>4.06154</td></tr>\n",
       "<tr><td>desg</td><td>796.214341107</td><td>650</td><td>332.75</td><td>57496.5047811</td><td>24.83077</td></tr>\n",
       "<tr><td>desg</td><td>796.214341107</td><td>552</td><td>334.29412</td><td>57496.505366</td><td>10.98462</td></tr>\n",
       "<tr><td>desg</td><td>796.214341107</td><td>501</td><td>334.29412</td><td>57496.5058835</td><td>4.06154</td></tr>\n",
       "<tr><td>desg</td><td>796.214341107</td><td>553</td><td>341.35294</td><td>57496.506401</td><td>10.98462</td></tr>\n",
       "<tr><td>desg</td><td>796.214341107</td><td>652</td><td>347.75</td><td>57496.5069859</td><td>24.83077</td></tr>\n",
       "<tr><td>desg</td><td>796.214341107</td><td>741</td><td>354.71429</td><td>57496.5075709</td><td>38.67692</td></tr>\n",
       "</table>"
      ],
      "text/plain": [
       "<Table length=7364>\n",
       "band    skynoise   field       RA           time        Dec   \n",
       "str4    float64    int64    float64       float64     float64 \n",
       "---- ------------- ----- ------------- ------------- ---------\n",
       "desr 796.214341107   620        107.75 57467.1255168  24.83077\n",
       "desr 796.214341107   619        100.25 57467.1261806  24.83077\n",
       "desr 796.214341107   667     104.65217 57467.1266981  31.75385\n",
       "desr 796.214341107   618 92.7499999997 57467.1272231  24.83077\n",
       "desr 796.214341107   617 85.2500000003 57467.1277515  24.83077\n",
       "desr 796.214341107   616 77.7500000003 57467.1282467  24.83077\n",
       "desr 796.214341107   616 77.7500000003 57467.1287097  24.83077\n",
       "desr 796.214341107   664 81.1739100001 57467.1292454  31.75385\n",
       "desr 796.214341107   663 73.3478299998 57467.1297404  31.75385\n",
       "desr 796.214341107   709      80.42857 57467.1302849  38.67692\n",
       " ...           ...   ...           ...           ...       ...\n",
       "desg 796.214341107   438     249.58824  57496.502227  -2.86154\n",
       "desg 796.214341107   343         297.8 57496.5030147 -16.70769\n",
       "desg 796.214341107   343         297.8 57496.5034777 -16.70769\n",
       "desg 796.214341107   499     320.17647 57496.5041294   4.06154\n",
       "desg 796.214341107   650        332.75 57496.5047811  24.83077\n",
       "desg 796.214341107   552     334.29412  57496.505366  10.98462\n",
       "desg 796.214341107   501     334.29412 57496.5058835   4.06154\n",
       "desg 796.214341107   553     341.35294  57496.506401  10.98462\n",
       "desg 796.214341107   652        347.75 57496.5069859  24.83077\n",
       "desg 796.214341107   741     354.71429 57496.5075709  38.67692"
      ]
     },
     "execution_count": 4,
     "metadata": {},
     "output_type": "execute_result"
    }
   ],
   "source": [
    "plan.cadence"
   ]
  },
  {
   "cell_type": "code",
   "execution_count": 7,
   "metadata": {
    "collapsed": false
   },
   "outputs": [
    {
     "name": "stdout",
     "output_type": "stream",
     "text": [
      "Determining field IDs for all objects\n",
      "\n",
      "Generating lightcurves\n",
      "\n"
     ]
    },
    {
     "name": "stderr",
     "output_type": "stream",
     "text": [
      ":0: FutureWarning: IPython widgets are experimental and may change in the future.\n",
      "WARNING: \"FloatProgressWidget\" is deprecated, please use \"FloatProgress\" instead.\n"
     ]
    }
   ],
   "source": [
    "# Follow the same scheme as in the other examples to \n",
    "instprop = {\"desg\":{\"gain\":1.,\"zp\":30,\"zpsys\":'ab'},\n",
    "            \"desr\":{\"gain\":1.,\"zp\":30,\"zpsys\":'ab'},\n",
    "            \"desi\":{\"gain\":1.,\"zp\":30,\"zpsys\":'ab'}}\n",
    "\n",
    "mjd_range = (plan.cadence['time'].min(), plan.cadence['time'].max())\n",
    "\n",
    "tr = simul.get_sn_generator([0.,0.2], ratekind=\"basic\", \n",
    "                            dec_range=[-40,90],\n",
    "                            mjd_range=[mjd_range[0] - 60, mjd_range[-1] + 25])\n",
    "\n",
    "survey = simul.SimulSurvey(generator=tr, plan=plan, instprop=instprop)\n",
    "    \n",
    "lcs = survey.get_lightcurves(progress_bar=True, notebook=True)"
   ]
  },
  {
   "cell_type": "code",
   "execution_count": 12,
   "metadata": {
    "collapsed": false
   },
   "outputs": [
    {
     "data": {
      "text/plain": [
       "(array([  4.47500000e+03,   2.14100000e+03,   2.18300000e+03,\n",
       "          1.00900000e+03,   8.80000000e+01,   5.60000000e+01,\n",
       "          4.80000000e+01,   1.20000000e+01,   0.00000000e+00,\n",
       "          1.00000000e+00]),\n",
       " array([  1. ,   8.7,  16.4,  24.1,  31.8,  39.5,  47.2,  54.9,  62.6,\n",
       "         70.3,  78. ]),\n",
       " <a list of 10 Patch objects>)"
      ]
     },
     "execution_count": 12,
     "metadata": {},
     "output_type": "execute_result"
    },
    {
     "data": {
      "image/png": "[encoded data removed]",
      "text/plain": [
       "<matplotlib.figure.Figure at 0x7f3f7107a110>"
      ]
     },
     "metadata": {},
     "output_type": "display_data"
    }
   ],
   "source": [
    "plt.hist([len(lc) for lc in lcs.lcs])"
   ]
  },
  {
   "cell_type": "code",
   "execution_count": null,
   "metadata": {
    "collapsed": true
   },
   "outputs": [],
   "source": []
  }
 ],
 "metadata": {
  "kernelspec": {
   "display_name": "Python 2",
   "language": "python",
   "name": "python2"
  },
  "language_info": {
   "codemirror_mode": {
    "name": "ipython",
    "version": 2
   },
   "file_extension": ".py",
   "mimetype": "text/x-python",
   "name": "python",
   "nbconvert_exporter": "python",
   "pygments_lexer": "ipython2",
   "version": "2.7.6"
  }
 },
 "nbformat": 4,
 "nbformat_minor": 0
}
