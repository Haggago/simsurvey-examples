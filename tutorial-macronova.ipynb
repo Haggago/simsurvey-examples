{
 "cells": [
  {
   "cell_type": "markdown",
   "metadata": {},
   "source": [
    "# Tutorial: Generating Macronova lightcurves based on ztf_sim output \n",
    "\n",
    "This notebook shows how to load the output for Eric's survey simulator `ztf_sim` and generate Macronova lightcurves for it using an SED from Rosswog et al. (2016). (Check out the other notebooks for examples how to simulate other transients.)\n",
    "\n",
    "*Note:* You need to download Eric's newest sample output [here](https://drive.google.com/file/d/1sB6r21ALG7ZKetvE734JS-UpLa3iwWSz/view). The link was also included in Eric's email, so you will likely only need to change the path below.\n",
    "\n",
    "Furthermore you'll require the dust map from Schlegel, Finkbeiner & Davis (1998) for full functionality. It can be found [here](https://github.com/kbarbary/sfddata/archive/master.tar.gz)."
   ]
  },
  {
   "cell_type": "code",
   "execution_count": 1,
   "metadata": {},
   "outputs": [],
   "source": [
    "import os\n",
    "home_dir = os.environ.get('HOME')\n",
    "\n",
    "# Please enter the filename of the ztf_sim output file you would like to use. The example first determines\n",
    "# your home directory and then uses a relative path (useful if working on several machines with different usernames)\n",
    "survey_file = os.path.join(home_dir, 'data/ZTF/test_schedule_v6.db')\n",
    "\n",
    "# Please enter the path to where you have placed the Schlegel, Finkbeiner & Davis (1998) dust map files\n",
    "# You can also set the environment variable SFD_DIR to this path (in that case the variable below should be None)\n",
    "sfd98_dir = os.path.join(home_dir, 'data/sfd98')"
   ]
  },
  {
   "cell_type": "code",
   "execution_count": 2,
   "metadata": {},
   "outputs": [],
   "source": [
    "import numpy as np\n",
    "import matplotlib.pyplot as plt\n",
    "%matplotlib inline\n",
    "\n",
    "import simsurvey\n",
    "import sncosmo\n",
    "from astropy.cosmology import Planck15\n",
    "\n",
    "import simsurvey_tools as sst "
   ]
  },
  {
   "cell_type": "code",
   "execution_count": 3,
   "metadata": {},
   "outputs": [],
   "source": [
    "# Load the ZTF CCD corners and filters\n",
    "ccds = sst.load_ztf_ccds()\n",
    "sst.load_ztf_filters()"
   ]
  },
  {
   "cell_type": "code",
   "execution_count": 4,
   "metadata": {},
   "outputs": [],
   "source": [
    "# Load simulated survey from file (download from ftp://ftp.astro.caltech.edu/users/ebellm/one_year_sim_incomplete.db)\n",
    "# Currently DES filters are used as proxies for ZTF filters\n",
    "plan = simsurvey.SurveyPlan(load_opsim=survey_file, band_dict={'g': 'ztfg', 'r': 'ztfr', 'i': 'desi'}, ccds=ccds)\n",
    "\n",
    "mjd_range = (plan.cadence['time'].min() - 30, plan.cadence['time'].max() + 30)"
   ]
  },
  {
   "cell_type": "code",
   "execution_count": 5,
   "metadata": {},
   "outputs": [
    {
     "data": {
      "text/html": [
       "&lt;Table length=128477&gt;\n",
       "<table id=\"table139661523096016\" class=\"table-striped table-bordered table-condensed\">\n",
       "<thead><tr><th>time</th><th>band</th><th>zp</th><th>skynoise</th><th>RA</th><th>Dec</th><th>field</th><th>comment</th></tr></thead>\n",
       "<thead><tr><th>float64</th><th>str4</th><th>int64</th><th>float64</th><th>float64</th><th>float64</th><th>int64</th><th>unicode13</th></tr></thead>\n",
       "<tr><td>57433.16732874228</td><td>ztfr</td><td>30</td><td>1235.458254793129</td><td>97.27032</td><td>-24.25</td><td>258</td><td>all_sky</td></tr>\n",
       "<tr><td>57433.167791705244</td><td>ztfr</td><td>30</td><td>1032.4155614033896</td><td>93.69218000000001</td><td>-17.05</td><td>307</td><td>all_sky</td></tr>\n",
       "<tr><td>57433.16825466821</td><td>ztfr</td><td>30</td><td>831.1606554753829</td><td>96.84022</td><td>-9.85</td><td>358</td><td>all_sky</td></tr>\n",
       "<tr><td>57433.16874926458</td><td>ztfr</td><td>30</td><td>768.014325534311</td><td>89.36968</td><td>4.55</td><td>459</td><td>all_sky</td></tr>\n",
       "<tr><td>57433.16922019285</td><td>ztfr</td><td>30</td><td>754.6151413469311</td><td>85.58463</td><td>11.75</td><td>511</td><td>all_sky</td></tr>\n",
       "<tr><td>57433.169683155815</td><td>ztfr</td><td>30</td><td>845.7393295485028</td><td>82.3588</td><td>4.55</td><td>458</td><td>all_sky</td></tr>\n",
       "<tr><td>57433.170146118784</td><td>ztfr</td><td>30</td><td>754.6151413469311</td><td>85.58463</td><td>11.75</td><td>511</td><td>all_sky</td></tr>\n",
       "<tr><td>57433.170609081746</td><td>ztfr</td><td>30</td><td>717.2561184374863</td><td>88.37309</td><td>18.95</td><td>562</td><td>nightly_plane</td></tr>\n",
       "<tr><td>57433.171118378836</td><td>ztfr</td><td>30</td><td>666.0616637410405</td><td>91.24686</td><td>26.15</td><td>612</td><td>all_sky</td></tr>\n",
       "<tr><td>57433.171581341805</td><td>ztfr</td><td>30</td><td>666.0616637410405</td><td>91.24686</td><td>26.15</td><td>612</td><td>nightly_plane</td></tr>\n",
       "<tr><td>...</td><td>...</td><td>...</td><td>...</td><td>...</td><td>...</td><td>...</td><td>...</td></tr>\n",
       "<tr><td>57706.412179100786</td><td>ztfg</td><td>30</td><td>1488.6673139116613</td><td>77.14286</td><td>69.35</td><td>837</td><td>all_sky</td></tr>\n",
       "<tr><td>57706.412662422554</td><td>ztfg</td><td>30</td><td>1553.2412492840326</td><td>86.66667</td><td>62.15</td><td>812</td><td>all_sky</td></tr>\n",
       "<tr><td>57706.413125385516</td><td>ztfg</td><td>30</td><td>1444.0299666000349</td><td>82.05244</td><td>54.95</td><td>780</td><td>all_sky</td></tr>\n",
       "<tr><td>57706.41358834848</td><td>ztfg</td><td>30</td><td>1416.8038457841542</td><td>81.85354</td><td>47.75</td><td>744</td><td>all_sky</td></tr>\n",
       "<tr><td>57706.41410365161</td><td>ztfg</td><td>30</td><td>1432.9529756928375</td><td>80.23141</td><td>40.55</td><td>703</td><td>nightly_plane</td></tr>\n",
       "<tr><td>57706.414577398355</td><td>ztfg</td><td>30</td><td>1467.573127836216</td><td>72.25385</td><td>47.75</td><td>743</td><td>nightly_plane</td></tr>\n",
       "<tr><td>57706.41505362554</td><td>ztfg</td><td>30</td><td>1463.5433399764709</td><td>71.12768</td><td>54.95</td><td>779</td><td>nightly_plane</td></tr>\n",
       "<tr><td>57706.41552502806</td><td>ztfg</td><td>30</td><td>1550.0105689728268</td><td>73.33333</td><td>62.15</td><td>811</td><td>all_sky</td></tr>\n",
       "<tr><td>57706.41602904431</td><td>ztfg</td><td>30</td><td>1578.2440111564354</td><td>59.99999999999999</td><td>76.55</td><td>856</td><td>all_sky</td></tr>\n",
       "<tr><td>57706.41649200727</td><td>ztfg</td><td>30</td><td>1677.4881922112043</td><td>59.99999999999999</td><td>69.35</td><td>836</td><td>all_sky</td></tr>\n",
       "</table>"
      ],
      "text/plain": [
       "<Table length=128477>\n",
       "       time        band   zp       skynoise      ...   Dec   field    comment   \n",
       "     float64       str4 int64      float64       ... float64 int64   unicode13  \n",
       "------------------ ---- ----- ------------------ ... ------- ----- -------------\n",
       " 57433.16732874228 ztfr    30  1235.458254793129 ...  -24.25   258       all_sky\n",
       "57433.167791705244 ztfr    30 1032.4155614033896 ...  -17.05   307       all_sky\n",
       " 57433.16825466821 ztfr    30  831.1606554753829 ...   -9.85   358       all_sky\n",
       " 57433.16874926458 ztfr    30   768.014325534311 ...    4.55   459       all_sky\n",
       " 57433.16922019285 ztfr    30  754.6151413469311 ...   11.75   511       all_sky\n",
       "57433.169683155815 ztfr    30  845.7393295485028 ...    4.55   458       all_sky\n",
       "57433.170146118784 ztfr    30  754.6151413469311 ...   11.75   511       all_sky\n",
       "57433.170609081746 ztfr    30  717.2561184374863 ...   18.95   562 nightly_plane\n",
       "57433.171118378836 ztfr    30  666.0616637410405 ...   26.15   612       all_sky\n",
       "57433.171581341805 ztfr    30  666.0616637410405 ...   26.15   612 nightly_plane\n",
       "               ...  ...   ...                ... ...     ...   ...           ...\n",
       "57706.412179100786 ztfg    30 1488.6673139116613 ...   69.35   837       all_sky\n",
       "57706.412662422554 ztfg    30 1553.2412492840326 ...   62.15   812       all_sky\n",
       "57706.413125385516 ztfg    30 1444.0299666000349 ...   54.95   780       all_sky\n",
       " 57706.41358834848 ztfg    30 1416.8038457841542 ...   47.75   744       all_sky\n",
       " 57706.41410365161 ztfg    30 1432.9529756928375 ...   40.55   703 nightly_plane\n",
       "57706.414577398355 ztfg    30  1467.573127836216 ...   47.75   743 nightly_plane\n",
       " 57706.41505362554 ztfg    30 1463.5433399764709 ...   54.95   779 nightly_plane\n",
       " 57706.41552502806 ztfg    30 1550.0105689728268 ...   62.15   811       all_sky\n",
       " 57706.41602904431 ztfg    30 1578.2440111564354 ...   76.55   856       all_sky\n",
       " 57706.41649200727 ztfg    30 1677.4881922112043 ...   69.35   836       all_sky"
      ]
     },
     "execution_count": 5,
     "metadata": {},
     "output_type": "execute_result"
    }
   ],
   "source": [
    "# To review the pointing schedule, you can use this table\n",
    "plan.pointings"
   ]
  },
  {
   "cell_type": "markdown",
   "metadata": {},
   "source": [
    "## Transient Model\n",
    "In this example the transient model is create from an ASCII file. Alternatively you could use the built-in SN models of sncosmo or the Blackbody model provided in simsurvey."
   ]
  },
  {
   "cell_type": "code",
   "execution_count": 6,
   "metadata": {},
   "outputs": [],
   "source": [
    "# Load phase, wavelengths and flux from file\n",
    "phase, wave, flux = sncosmo.read_griddata_ascii('data/macronova_sed_wind20.dat')\n",
    "\n",
    "# Create a time series source\n",
    "source = sncosmo.TimeSeriesSource(phase, wave, flux)\n",
    "\n",
    "# Create the model that combines SED and propagation effects\n",
    "dust = sncosmo.CCM89Dust()\n",
    "model = sncosmo.Model(source=source,\n",
    "                      effects=[dust],\n",
    "                      effect_names=['host'],\n",
    "                      effect_frames=['rest'])"
   ]
  },
  {
   "cell_type": "markdown",
   "metadata": {},
   "source": [
    "## Transient distribution\n",
    "You need to define a function that draws the model parameters (except z and t0) from a random distribution.\n",
    "In this case only host exinction is random but in addition the amplitude of each MN must be scaled for its luminosity distance."
   ]
  },
  {
   "cell_type": "code",
   "execution_count": 7,
   "metadata": {},
   "outputs": [],
   "source": [
    "def random_parameters(redshifts, model,\n",
    "                      r_v=2., ebv_rate=0.11,\n",
    "                      **kwargs):\n",
    "    cosmo = Planck15\n",
    "    \n",
    "    # Amplitude\n",
    "    amp = []\n",
    "    for z in redshifts:\n",
    "        d_l = cosmo.luminosity_distance(z).value * 1e5\n",
    "        amp.append(d_l**-2)\n",
    "\n",
    "    return {\n",
    "        'amplitude': np.array(amp),\n",
    "        'hostr_v': r_v * np.ones(len(redshifts)),\n",
    "        'hostebv': np.random.exponential(ebv_rate, len(redshifts))\n",
    "    }"
   ]
  },
  {
   "cell_type": "markdown",
   "metadata": {},
   "source": [
    "## TransientGenerator\n",
    "The transient generator combines model and ditribution, and randomly draws all parameters needed to simulate the lightcurves.\n",
    "\n",
    "(Note that here we also set the volumetric rate as funtion of z. For macronovae, a good guess would be $5\\cdot 10^{-7}~\\textrm{Mpc}^{-3}~\\textrm{yr}^{-1}$ but this would only results in a couple of observed macronovae. For this example we'll use a 100 times larger rate.)"
   ]
  },
  {
   "cell_type": "code",
   "execution_count": 8,
   "metadata": {},
   "outputs": [],
   "source": [
    "transientprop = dict(lcmodel=model,\n",
    "                     lcsimul_func=random_parameters)\n",
    "\n",
    "tr = simsurvey.get_transient_generator((0.0, 0.05),\n",
    "                                       ratefunc=lambda z: 5e-5,\n",
    "                                       dec_range=(-30,90),\n",
    "                                       mjd_range=(mjd_range[0],\n",
    "                                                  mjd_range[1]),\n",
    "                                       transientprop=transientprop,\n",
    "                                       sfd98_dir=sfd98_dir)"
   ]
  },
  {
   "cell_type": "markdown",
   "metadata": {},
   "source": [
    "## SimulSurvey\n",
    "Lastly, all parts are combined in a SimulSurvey object that will generate the lightcurves.\n",
    "(This may take about a minute or two.)"
   ]
  },
  {
   "cell_type": "code",
   "execution_count": 9,
   "metadata": {},
   "outputs": [
    {
     "name": "stderr",
     "output_type": "stream",
     "text": [
      "/home/ufeindt/.local/lib/python2.7/site-packages/simsurvey-0.4.0-py2.7.egg/simsurvey/simulsurvey.py:1355: RuntimeWarning: invalid value encountered in log10\n"
     ]
    }
   ],
   "source": [
    "survey = simsurvey.SimulSurvey(generator=tr, plan=plan)\n",
    "    \n",
    "lcs = survey.get_lightcurves(\n",
    "    #progress_bar=True, notebook=True # If you get an error because of the progress_bar, delete this line.\n",
    ")"
   ]
  },
  {
   "cell_type": "code",
   "execution_count": 10,
   "metadata": {},
   "outputs": [
    {
     "data": {
      "text/plain": [
       "83"
      ]
     },
     "execution_count": 10,
     "metadata": {},
     "output_type": "execute_result"
    }
   ],
   "source": [
    "len(lcs.lcs)"
   ]
  },
  {
   "cell_type": "code",
   "execution_count": 11,
   "metadata": {},
   "outputs": [
    {
     "data": {
      "text/html": [
       "&lt;Table length=90&gt;\n",
       "<table id=\"table139661024430160\" class=\"table-striped table-bordered table-condensed\">\n",
       "<thead><tr><th>time</th><th>band</th><th>flux</th><th>fluxerr</th><th>zp</th><th>zpsys</th><th>field</th><th>ccd</th><th>comment</th></tr></thead>\n",
       "<thead><tr><th>float64</th><th>str4</th><th>float64</th><th>float64</th><th>int64</th><th>str2</th><th>int64</th><th>int64</th><th>unicode7</th></tr></thead>\n",
       "<tr><td>57615.38283656832</td><td>ztfr</td><td>99.56272510084517</td><td>749.3505069243935</td><td>30</td><td>ab</td><td>550</td><td>15</td><td>all_sky</td></tr>\n",
       "<tr><td>57615.38378356504</td><td>ztfr</td><td>495.8434591898682</td><td>749.3505069243935</td><td>30</td><td>ab</td><td>550</td><td>15</td><td>all_sky</td></tr>\n",
       "<tr><td>57615.3842688382</td><td>ztfr</td><td>241.71562773918544</td><td>766.645785785584</td><td>30</td><td>ab</td><td>551</td><td>12</td><td>all_sky</td></tr>\n",
       "<tr><td>57615.41324923264</td><td>ztfr</td><td>-412.5808522111392</td><td>669.686854903955</td><td>30</td><td>ab</td><td>551</td><td>12</td><td>all_sky</td></tr>\n",
       "<tr><td>57615.414192677636</td><td>ztfr</td><td>2189.2933121681253</td><td>669.686854903955</td><td>30</td><td>ab</td><td>551</td><td>12</td><td>all_sky</td></tr>\n",
       "<tr><td>57615.41561484692</td><td>ztfr</td><td>-980.3066052218165</td><td>668.8650384837463</td><td>30</td><td>ab</td><td>550</td><td>15</td><td>all_sky</td></tr>\n",
       "<tr><td>57615.41948288944</td><td>ztfg</td><td>-937.4525519787344</td><td>537.0736183146207</td><td>30</td><td>ab</td><td>551</td><td>12</td><td>all_sky</td></tr>\n",
       "<tr><td>57616.37801500868</td><td>ztfr</td><td>-1042.1010786953661</td><td>891.1583341945734</td><td>30</td><td>ab</td><td>550</td><td>15</td><td>all_sky</td></tr>\n",
       "<tr><td>57616.378477971644</td><td>ztfr</td><td>1347.9058069156897</td><td>891.1583341945734</td><td>30</td><td>ab</td><td>550</td><td>15</td><td>all_sky</td></tr>\n",
       "<tr><td>57616.37896053899</td><td>ztfr</td><td>-594.6875334453994</td><td>891.1510558748414</td><td>30</td><td>ab</td><td>551</td><td>12</td><td>all_sky</td></tr>\n",
       "<tr><td>...</td><td>...</td><td>...</td><td>...</td><td>...</td><td>...</td><td>...</td><td>...</td><td>...</td></tr>\n",
       "<tr><td>57641.37861567019</td><td>ztfr</td><td>-45.82509865637937</td><td>456.26122698661493</td><td>30</td><td>ab</td><td>551</td><td>12</td><td>all_sky</td></tr>\n",
       "<tr><td>57641.38050498855</td><td>ztfr</td><td>-572.8123761510442</td><td>459.44670229323344</td><td>30</td><td>ab</td><td>550</td><td>15</td><td>all_sky</td></tr>\n",
       "<tr><td>57643.291735624305</td><td>desi</td><td>361.9428443229057</td><td>679.889408165077</td><td>30</td><td>ab</td><td>550</td><td>15</td><td>i_band</td></tr>\n",
       "<tr><td>57643.2942117337</td><td>ztfr</td><td>-342.978387213293</td><td>687.7366955028662</td><td>30</td><td>ab</td><td>550</td><td>15</td><td>all_sky</td></tr>\n",
       "<tr><td>57643.37435340489</td><td>ztfr</td><td>-623.1466369256693</td><td>547.4188614286222</td><td>30</td><td>ab</td><td>550</td><td>15</td><td>all_sky</td></tr>\n",
       "<tr><td>57643.374816367854</td><td>ztfr</td><td>232.92978251595395</td><td>547.4188609074959</td><td>30</td><td>ab</td><td>550</td><td>15</td><td>all_sky</td></tr>\n",
       "<tr><td>57643.38018475206</td><td>ztfr</td><td>166.5506097313659</td><td>466.67095681520544</td><td>30</td><td>ab</td><td>551</td><td>12</td><td>all_sky</td></tr>\n",
       "<tr><td>57643.38064771503</td><td>ztfr</td><td>-25.477984666053494</td><td>466.670956207166</td><td>30</td><td>ab</td><td>551</td><td>12</td><td>all_sky</td></tr>\n",
       "<tr><td>57643.41529714246</td><td>ztfg</td><td>-492.50500635963624</td><td>448.6802015791674</td><td>30</td><td>ab</td><td>550</td><td>15</td><td>all_sky</td></tr>\n",
       "<tr><td>57643.41578301304</td><td>ztfg</td><td>-210.8886557296866</td><td>446.1846272546954</td><td>30</td><td>ab</td><td>551</td><td>12</td><td>all_sky</td></tr>\n",
       "</table>"
      ],
      "text/plain": [
       "<Table length=90>\n",
       "       time        band         flux        ... field  ccd  comment \n",
       "     float64       str4       float64       ... int64 int64 unicode7\n",
       "------------------ ---- ------------------- ... ----- ----- --------\n",
       " 57615.38283656832 ztfr   99.56272510084517 ...   550    15  all_sky\n",
       " 57615.38378356504 ztfr   495.8434591898682 ...   550    15  all_sky\n",
       "  57615.3842688382 ztfr  241.71562773918544 ...   551    12  all_sky\n",
       " 57615.41324923264 ztfr  -412.5808522111392 ...   551    12  all_sky\n",
       "57615.414192677636 ztfr  2189.2933121681253 ...   551    12  all_sky\n",
       " 57615.41561484692 ztfr  -980.3066052218165 ...   550    15  all_sky\n",
       " 57615.41948288944 ztfg  -937.4525519787344 ...   551    12  all_sky\n",
       " 57616.37801500868 ztfr -1042.1010786953661 ...   550    15  all_sky\n",
       "57616.378477971644 ztfr  1347.9058069156897 ...   550    15  all_sky\n",
       " 57616.37896053899 ztfr  -594.6875334453994 ...   551    12  all_sky\n",
       "               ...  ...                 ... ...   ...   ...      ...\n",
       " 57641.37861567019 ztfr  -45.82509865637937 ...   551    12  all_sky\n",
       " 57641.38050498855 ztfr  -572.8123761510442 ...   550    15  all_sky\n",
       "57643.291735624305 desi   361.9428443229057 ...   550    15   i_band\n",
       "  57643.2942117337 ztfr   -342.978387213293 ...   550    15  all_sky\n",
       " 57643.37435340489 ztfr  -623.1466369256693 ...   550    15  all_sky\n",
       "57643.374816367854 ztfr  232.92978251595395 ...   550    15  all_sky\n",
       " 57643.38018475206 ztfr   166.5506097313659 ...   551    12  all_sky\n",
       " 57643.38064771503 ztfr -25.477984666053494 ...   551    12  all_sky\n",
       " 57643.41529714246 ztfg -492.50500635963624 ...   550    15  all_sky\n",
       " 57643.41578301304 ztfg  -210.8886557296866 ...   551    12  all_sky"
      ]
     },
     "execution_count": 11,
     "metadata": {},
     "output_type": "execute_result"
    }
   ],
   "source": [
    "lcs[0]"
   ]
  },
  {
   "cell_type": "code",
   "execution_count": null,
   "metadata": {},
   "outputs": [],
   "source": []
  },
  {
   "cell_type": "markdown",
   "metadata": {},
   "source": [
    "## Analysing the output\n",
    "\n",
    "The output of `get_lightcurves()` is a `LightcurveCollection` object. Lightcurves are automatically filter, so only those that would be detected in the survey are kept.\n",
    "\n",
    "You can save a the lightcurves in a pickle file and load them again later without rerunning the simulation."
   ]
  },
  {
   "cell_type": "code",
   "execution_count": 12,
   "metadata": {},
   "outputs": [],
   "source": [
    "lcs.save('lcs_tutorial_mne.pkl')"
   ]
  },
  {
   "cell_type": "code",
   "execution_count": 13,
   "metadata": {},
   "outputs": [],
   "source": [
    "lcs = simsurvey.LightcurveCollection(load='lcs_tutorial_mne.pkl')"
   ]
  },
  {
   "cell_type": "markdown",
   "metadata": {},
   "source": [
    "You can inspect the lightcurves manually. This example should return the lightcurve with the most points with S/N > 5."
   ]
  },
  {
   "cell_type": "code",
   "execution_count": 14,
   "metadata": {},
   "outputs": [
    {
     "data": {
      "image/png": "[encoded data removed]",
      "text/plain": [
       "<matplotlib.figure.Figure at 0x7f055d0be410>"
      ]
     },
     "metadata": {},
     "output_type": "display_data"
    }
   ],
   "source": [
    "_ = sncosmo.plot_lc(lcs[0])"
   ]
  },
  {
   "cell_type": "markdown",
   "metadata": {},
   "source": [
    "The two figures below show how early the MNe are detected and at what redshifts. The simulation input parameters of transients that were not detected are also kept, so can check completeness. "
   ]
  },
  {
   "cell_type": "code",
   "execution_count": 15,
   "metadata": {},
   "outputs": [
    {
     "data": {
      "image/png": "[encoded data removed]",
      "text/plain": [
       "<matplotlib.figure.Figure at 0x7f055c7ef450>"
      ]
     },
     "metadata": {},
     "output_type": "display_data"
    }
   ],
   "source": [
    "plt.hist(lcs.stats['p_det'], lw=2, histtype='step', range=(0,10), bins=20)\n",
    "plt.xlabel('Detection phase (observer-frame)', fontsize='x-large')\n",
    "_ = plt.ylabel(r'$N_{MNe}$', fontsize='x-large')"
   ]
  },
  {
   "cell_type": "code",
   "execution_count": 16,
   "metadata": {},
   "outputs": [
    {
     "data": {
      "text/plain": [
       "<matplotlib.legend.Legend at 0x7f055c7efb10>"
      ]
     },
     "execution_count": 16,
     "metadata": {},
     "output_type": "execute_result"
    },
    {
     "data": {
      "image/png": "[encoded data removed]",
      "text/plain": [
       "<matplotlib.figure.Figure at 0x7f055ca241d0>"
      ]
     },
     "metadata": {},
     "output_type": "display_data"
    }
   ],
   "source": [
    "plt.hist(lcs.meta_full['z'], lw=1, histtype='step', range=(0,0.05), bins=20, label='all')\n",
    "plt.hist(lcs.meta['z'], lw=2, histtype='step', range=(0,0.05), bins=20, label='detected')\n",
    "plt.xlabel('Redshift', fontsize='x-large')\n",
    "plt.ylabel(r'$N_{MNe}$', fontsize='x-large')\n",
    "plt.xlim((0, 0.05))\n",
    "plt.legend()"
   ]
  },
  {
   "cell_type": "code",
   "execution_count": null,
   "metadata": {},
   "outputs": [],
   "source": []
  }
 ],
 "metadata": {
  "anaconda-cloud": {},
  "kernelspec": {
   "display_name": "Python [default]",
   "language": "python",
   "name": "python2"
  },
  "language_info": {
   "codemirror_mode": {
    "name": "ipython",
    "version": 2
   },
   "file_extension": ".py",
   "mimetype": "text/x-python",
   "name": "python",
   "nbconvert_exporter": "python",
   "pygments_lexer": "ipython2",
   "version": "2.7.14"
  }
 },
 "nbformat": 4,
 "nbformat_minor": 1
}
