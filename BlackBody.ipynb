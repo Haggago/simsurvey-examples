{
 "cells": [
  {
   "cell_type": "markdown",
   "metadata": {},
   "source": [
    "# Simulating lightcurves using a black body spectrum"
   ]
  },
  {
   "cell_type": "code",
   "execution_count": 1,
   "metadata": {
    "collapsed": true
   },
   "outputs": [],
   "source": [
    "import os\n",
    "home_dir = os.environ.get('HOME')\n",
    "\n",
    "# Please enter the filename of the ztf_sim output file you would like to use. The example first determines\n",
    "# your home directory and then uses a relative path (useful if working on several machines with different usernames)\n",
    "survey_file = os.path.join(home_dir, 'data/ZTF/one_year_sim_incomplete.db')\n",
    "\n",
    "# Please enter the path to where you have placed the Schlegel, Finkbeiner & Davis (1998) dust map files\n",
    "# You can also set the environment variable SFD_DIR to this path (in that case the variable below should be None)\n",
    "sfd98_dir = os.path.join(home_dir, 'data/sfd98')"
   ]
  },
  {
   "cell_type": "code",
   "execution_count": 2,
   "metadata": {
    "collapsed": false
   },
   "outputs": [],
   "source": [
    "import warnings\n",
    "## No annoying warnings\n",
    "warnings.filterwarnings('ignore')\n",
    "\n",
    "import numpy as np\n",
    "import matplotlib.pyplot as plt\n",
    "%matplotlib inline\n",
    "\n",
    "from astropy.cosmology import Planck15\n",
    "import simsurvey\n",
    "import sncosmo"
   ]
  },
  {
   "cell_type": "code",
   "execution_count": 3,
   "metadata": {
    "collapsed": true
   },
   "outputs": [],
   "source": [
    "# Load the CCD corners from file\n",
    "ccd_corners = np.genfromtxt('data/ZTF_corners.txt')\n",
    "ccds = [ccd_corners[4*k+16:4*k+20] for k in range(16)]"
   ]
  },
  {
   "cell_type": "code",
   "execution_count": 4,
   "metadata": {
    "collapsed": true
   },
   "outputs": [],
   "source": [
    "bands = { \n",
    "  'ztfr' : 'data/ztfr_eff.txt',\n",
    "  'ztfg' : 'data/ztfg_eff.txt',\n",
    "  }\n",
    "\n",
    "for bandname in bands.keys() :\n",
    "    fname = bands[bandname]\n",
    "    b = np.loadtxt(fname)\n",
    "    band = sncosmo.Bandpass(b[:,0], b[:,1], name=bandname)\n",
    "    sncosmo.registry.register(band)"
   ]
  },
  {
   "cell_type": "code",
   "execution_count": 5,
   "metadata": {
    "collapsed": true
   },
   "outputs": [],
   "source": [
    "# Load simulated survey from file (download from ftp://ftp.astro.caltech.edu/users/ebellm/one_year_sim_incomplete.db)\n",
    "plan = simsurvey.SurveyPlan(load_opsim=survey_file, band_dict={'g': 'ztfg', 'r': 'ztfr'}, ccds=ccds)\n",
    "\n",
    "mjd_range = (plan.cadence['time'].min(), plan.cadence['time'].max())"
   ]
  },
  {
   "cell_type": "code",
   "execution_count": 9,
   "metadata": {
    "collapsed": false
   },
   "outputs": [],
   "source": [
    "# Need to define a basic lightcurve shape in arbitrary flux units\n",
    "# Using eq. (1) of Bazin et al. (2011) for a basic shape\n",
    "t_rise = 30.\n",
    "t_fall = 60.\n",
    "phase = np.linspace(-6*t_rise, 4*t_fall, 100)\n",
    "flux = np.exp(-phase/t_fall)/(1 + np.exp(-phase/t_rise))\n",
    "\n",
    "source = simsurvey.BlackBodySource(phase, flux)\n",
    "\n",
    "dust = sncosmo.CCM89Dust()\n",
    "model = sncosmo.Model(source=source,\n",
    "                      effects=[dust],\n",
    "                      effect_names=['host'],\n",
    "                      effect_frames=['rest'])\n",
    "\n",
    "def random_parameters(redshifts, model,\n",
    "                      mag=(-17.5, 0.5),\n",
    "                      T=(2e4, 5e3),\n",
    "                      r_v=2., ebv_rate=0.11,\n",
    "                      **kwargs):\n",
    "    temperatures = np.random.uniform(T[0]-T[1], T[0]+T[1], len(redshifts))\n",
    "    \n",
    "    # Amplitude\n",
    "    amp = []\n",
    "    for z, temp in zip(redshifts, temperatures):\n",
    "        model.set(z=z, T=temp)\n",
    "        mabs = np.random.normal(mag[0], mag[1])\n",
    "        model.set_source_peakabsmag(mabs, 'bessellb', 'vega', cosmo=Planck15)\n",
    "        amp.append(model.get('amplitude'))\n",
    "\n",
    "    return {\n",
    "        'amplitude': np.array(amp),\n",
    "        'T': temperatures,\n",
    "        'hostr_v': r_v * np.ones(len(redshifts)),\n",
    "        'hostebv': np.random.exponential(ebv_rate, len(redshifts))\n",
    "    }\n",
    "\n",
    "transientprop = dict(lcmodel=model,\n",
    "                    lcsimul_func=random_parameters,\n",
    "                    lcsimul_prop=dict(mag=(-17.5, 0.5)))\n",
    "\n",
    "z_max = 0.1\n",
    "tr = simsurvey.get_transient_generator([0.0, z_max], ratekind='custom',\n",
    "                                       ratefunc=lambda z: 1e-6,\n",
    "                                       dec_range=[-30,90],\n",
    "                                       mjd_range=[mjd_range[0] - model.maxtime()*(1.+z_max),\n",
    "                                                  mjd_range[1] + model.mintime()*(1.+z_max)],\n",
    "                                       transientprop=transientprop,\n",
    "                                       sfd98_dir=sfd98_dir)"
   ]
  },
  {
   "cell_type": "code",
   "execution_count": 12,
   "metadata": {
    "collapsed": false
   },
   "outputs": [
    {
     "name": "stdout",
     "output_type": "stream",
     "text": [
      "Determining field IDs for all objects\n",
      "\n",
      "Generating lightcurves\n",
      "\n"
     ]
    }
   ],
   "source": [
    "instprop = {\"ztfg\":{\"gain\":1.,\"zp\":30,\"zpsys\":'ab'},\n",
    "            \"ztfr\":{\"gain\":1.,\"zp\":30,\"zpsys\":'ab'}}\n",
    "\n",
    "survey = simsurvey.SimulSurvey(generator=tr, plan=plan, instprop=instprop)\n",
    "    \n",
    "lcs = survey.get_lightcurves(\n",
    "    progress_bar=True, notebook=True # If you get an error because of the progress_bar, delete this line.\n",
    ")"
   ]
  },
  {
   "cell_type": "code",
   "execution_count": 10,
   "metadata": {
    "collapsed": false
   },
   "outputs": [
    {
     "data": {
      "text/html": [
       "&lt;Table length=255&gt;\n",
       "<table id=\"table140517501397840\" class=\"table-striped table-bordered table-condensed\">\n",
       "<thead><tr><th>time</th><th>band</th><th>flux</th><th>fluxerr</th><th>zp</th><th>zpsys</th></tr></thead>\n",
       "<thead><tr><th>float64</th><th>str4</th><th>float64</th><th>float64</th><th>int64</th><th>str2</th></tr></thead>\n",
       "<tr><td>57391.3572888</td><td>desg</td><td>15174.0437137</td><td>369.844836865</td><td>30</td><td>ab</td></tr>\n",
       "<tr><td>57391.3577518</td><td>desg</td><td>14697.3852315</td><td>369.844692867</td><td>30</td><td>ab</td></tr>\n",
       "<tr><td>57393.2206108</td><td>desg</td><td>13767.9199772</td><td>779.576006488</td><td>30</td><td>ab</td></tr>\n",
       "<tr><td>57393.2210738</td><td>desg</td><td>14551.1552107</td><td>779.575940094</td><td>30</td><td>ab</td></tr>\n",
       "<tr><td>57393.2701375</td><td>desg</td><td>14024.3564411</td><td>505.851057427</td><td>30</td><td>ab</td></tr>\n",
       "<tr><td>57393.2706004</td><td>desg</td><td>14580.3244352</td><td>505.850955207</td><td>30</td><td>ab</td></tr>\n",
       "<tr><td>57393.3583734</td><td>desr</td><td>11786.1555716</td><td>565.576307941</td><td>30</td><td>ab</td></tr>\n",
       "<tr><td>57393.4178884</td><td>desr</td><td>11446.3570244</td><td>467.844587785</td><td>30</td><td>ab</td></tr>\n",
       "<tr><td>57393.4183513</td><td>desr</td><td>11834.9024624</td><td>467.844497402</td><td>30</td><td>ab</td></tr>\n",
       "<tr><td>57394.3337737</td><td>desg</td><td>13477.1749437</td><td>382.991333384</td><td>30</td><td>ab</td></tr>\n",
       "<tr><td>...</td><td>...</td><td>...</td><td>...</td><td>...</td><td>...</td></tr>\n",
       "<tr><td>57491.2407846</td><td>desg</td><td>3015.0183668</td><td>434.725740749</td><td>30</td><td>ab</td></tr>\n",
       "<tr><td>57491.2412476</td><td>desg</td><td>3265.93969768</td><td>434.725717525</td><td>30</td><td>ab</td></tr>\n",
       "<tr><td>57493.1461936</td><td>desr</td><td>2583.1866198</td><td>933.609255476</td><td>30</td><td>ab</td></tr>\n",
       "<tr><td>57493.1466565</td><td>desr</td><td>1978.67414188</td><td>933.609247028</td><td>30</td><td>ab</td></tr>\n",
       "<tr><td>57493.1869448</td><td>desr</td><td>2095.80823927</td><td>808.089910625</td><td>30</td><td>ab</td></tr>\n",
       "<tr><td>57493.1874077</td><td>desr</td><td>1563.66034221</td><td>808.089900876</td><td>30</td><td>ab</td></tr>\n",
       "<tr><td>57495.1405582</td><td>desg</td><td>3700.33158746</td><td>894.288373209</td><td>30</td><td>ab</td></tr>\n",
       "<tr><td>57495.1410212</td><td>desg</td><td>3576.96243024</td><td>894.288362999</td><td>30</td><td>ab</td></tr>\n",
       "<tr><td>57495.1882593</td><td>desg</td><td>2568.29090888</td><td>789.468697497</td><td>30</td><td>ab</td></tr>\n",
       "<tr><td>57495.1887223</td><td>desg</td><td>2231.33039318</td><td>789.468685948</td><td>30</td><td>ab</td></tr>\n",
       "</table>"
      ],
      "text/plain": [
       "<Table length=255>\n",
       "     time     band      flux        fluxerr      zp  zpsys\n",
       "   float64    str4    float64       float64    int64  str2\n",
       "------------- ---- ------------- ------------- ----- -----\n",
       "57391.3572888 desg 15174.0437137 369.844836865    30    ab\n",
       "57391.3577518 desg 14697.3852315 369.844692867    30    ab\n",
       "57393.2206108 desg 13767.9199772 779.576006488    30    ab\n",
       "57393.2210738 desg 14551.1552107 779.575940094    30    ab\n",
       "57393.2701375 desg 14024.3564411 505.851057427    30    ab\n",
       "57393.2706004 desg 14580.3244352 505.850955207    30    ab\n",
       "57393.3583734 desr 11786.1555716 565.576307941    30    ab\n",
       "57393.4178884 desr 11446.3570244 467.844587785    30    ab\n",
       "57393.4183513 desr 11834.9024624 467.844497402    30    ab\n",
       "57394.3337737 desg 13477.1749437 382.991333384    30    ab\n",
       "          ...  ...           ...           ...   ...   ...\n",
       "57491.2407846 desg  3015.0183668 434.725740749    30    ab\n",
       "57491.2412476 desg 3265.93969768 434.725717525    30    ab\n",
       "57493.1461936 desr  2583.1866198 933.609255476    30    ab\n",
       "57493.1466565 desr 1978.67414188 933.609247028    30    ab\n",
       "57493.1869448 desr 2095.80823927 808.089910625    30    ab\n",
       "57493.1874077 desr 1563.66034221 808.089900876    30    ab\n",
       "57495.1405582 desg 3700.33158746 894.288373209    30    ab\n",
       "57495.1410212 desg 3576.96243024 894.288362999    30    ab\n",
       "57495.1882593 desg 2568.29090888 789.468697497    30    ab\n",
       "57495.1887223 desg 2231.33039318 789.468685948    30    ab"
      ]
     },
     "execution_count": 10,
     "metadata": {},
     "output_type": "execute_result"
    }
   ],
   "source": [
    "lcs[0]"
   ]
  },
  {
   "cell_type": "code",
   "execution_count": null,
   "metadata": {
    "collapsed": true
   },
   "outputs": [],
   "source": []
  }
 ],
 "metadata": {
  "anaconda-cloud": {},
  "kernelspec": {
   "display_name": "Python [default]",
   "language": "python",
   "name": "python2"
  },
  "language_info": {
   "codemirror_mode": {
    "name": "ipython",
    "version": 2
   },
   "file_extension": ".py",
   "mimetype": "text/x-python",
   "name": "python",
   "nbconvert_exporter": "python",
   "pygments_lexer": "ipython2",
   "version": "2.7.12"
  },
  "widgets": {
   "state": {
    "4a9c3b2449a845a19ca869dc5efb1aa0": {
     "views": [
      {
       "cell_index": 7
      }
     ]
    },
    "79a7c12a5e2a4a96a3b7434383881c9c": {
     "views": [
      {
       "cell_index": 7
      }
     ]
    }
   },
   "version": "1.2.0"
  }
 },
 "nbformat": 4,
 "nbformat_minor": 0
}
