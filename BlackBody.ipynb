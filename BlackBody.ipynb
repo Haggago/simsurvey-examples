{
 "cells": [
  {
   "cell_type": "markdown",
   "metadata": {},
   "source": [
    "# Simulating lightcurves using an expanding black body model"
   ]
  },
  {
   "cell_type": "code",
   "execution_count": 1,
   "metadata": {},
   "outputs": [],
   "source": [
    "import os\n",
    "home_dir = os.environ.get('HOME')\n",
    "\n",
    "# Please enter the filename of the ztf_sim output file you would like to use. The example first determines\n",
    "# your home directory and then uses a relative path (useful if working on several machines with different usernames)\n",
    "survey_file = os.path.join(home_dir, 'data/ZTF/test_schedule_v6.db')\n",
    "\n",
    "# Please enter the path to where you have placed the Schlegel, Finkbeiner & Davis (1998) dust map files\n",
    "# You can also set the environment variable SFD_DIR to this path (in that case the variable below should be None)\n",
    "sfd98_dir = os.path.join(home_dir, 'data/sfd98')"
   ]
  },
  {
   "cell_type": "code",
   "execution_count": 2,
   "metadata": {},
   "outputs": [],
   "source": [
    "import numpy as np\n",
    "import matplotlib.pyplot as plt\n",
    "%matplotlib inline\n",
    "\n",
    "from astropy.cosmology import Planck15\n",
    "import simsurvey\n",
    "import sncosmo\n",
    "\n",
    "import simsurvey_tools as sst"
   ]
  },
  {
   "cell_type": "code",
   "execution_count": 3,
   "metadata": {},
   "outputs": [],
   "source": [
    "# Load the ZTF CCD corners and filters\n",
    "ccds = sst.load_ztf_ccds()\n",
    "sst.load_ztf_filters()"
   ]
  },
  {
   "cell_type": "code",
   "execution_count": 4,
   "metadata": {},
   "outputs": [],
   "source": [
    "# Load simulated survey from file (download from ftp://ftp.astro.caltech.edu/users/ebellm/one_year_sim_incomplete.db)\n",
    "plan = simsurvey.SurveyPlan(load_opsim=survey_file, band_dict={'g': 'ztfg', 'r': 'ztfr', 'i': 'desi'}, ccds=ccds)\n",
    "\n",
    "mjd_range = (plan.cadence['time'].min() - 30, plan.cadence['time'].max() + 30)"
   ]
  },
  {
   "cell_type": "code",
   "execution_count": 5,
   "metadata": {},
   "outputs": [],
   "source": [
    "# The expanding black body model takes arguments that define the evolution of the transient (functions + parameters).\n",
    "# This example is the black body fit to GW170817 from Kasliwal et al. (2017).\n",
    "\n",
    "tr_prop = {\n",
    "    'lcmodel_prop': dict(\n",
    "        minphase=0.1,\n",
    "        maxphase=15.,\n",
    "        tempfunc=(lambda p, x: p[0] * x**p[1]),\n",
    "        tempparam=[6050, -0.62],\n",
    "        radiusfunc=(lambda p, x: p[0]*(1-np.exp(-p[1]*x)) + p[2]*x),\n",
    "        radiusparam=[24000, 0.42, 2500]\n",
    "    )\n",
    "}\n",
    "\n",
    "tr = simsurvey.get_transient_generator((0., 0.05),\n",
    "                                       ratefunc=lambda z: 5e-5,\n",
    "                                       transient='generic', \n",
    "                                       template='ExpandingBlackBody',\n",
    "                                       dec_range=(-30,90),\n",
    "                                       mjd_range=(mjd_range[0],\n",
    "                                                  mjd_range[1]),\n",
    "                                       sfd98_dir=sfd98_dir,\n",
    "                                       transientprop=tr_prop)"
   ]
  },
  {
   "cell_type": "code",
   "execution_count": 6,
   "metadata": {},
   "outputs": [
    {
     "name": "stderr",
     "output_type": "stream",
     "text": [
      "/home/ufeindt/anaconda2/envs/simsurvey-dev/lib/python2.7/site-packages/ipykernel/__main__.py:8: RuntimeWarning: invalid value encountered in double_scalars\n"
     ]
    }
   ],
   "source": [
    "survey = simsurvey.SimulSurvey(generator=tr, plan=plan)\n",
    "    \n",
    "lcs = survey.get_lightcurves(\n",
    "    #progress_bar=True, notebook=True # If you get an error because of the progress_bar, delete this line.\n",
    ")"
   ]
  },
  {
   "cell_type": "code",
   "execution_count": 7,
   "metadata": {},
   "outputs": [
    {
     "name": "stdout",
     "output_type": "stream",
     "text": [
      "25\n"
     ]
    }
   ],
   "source": [
    "print len(lcs.lcs)"
   ]
  },
  {
   "cell_type": "code",
   "execution_count": 8,
   "metadata": {
    "scrolled": true
   },
   "outputs": [
    {
     "data": {
      "text/html": [
       "&lt;Table length=61&gt;\n",
       "<table id=\"table139966692968336\" class=\"table-striped table-bordered table-condensed\">\n",
       "<thead><tr><th>time</th><th>band</th><th>flux</th><th>fluxerr</th><th>zp</th><th>zpsys</th><th>field</th><th>ccd</th><th>comment</th></tr></thead>\n",
       "<thead><tr><th>float64</th><th>str4</th><th>float64</th><th>float64</th><th>int64</th><th>str2</th><th>int64</th><th>int64</th><th>unicode7</th></tr></thead>\n",
       "<tr><td>57638.49337179176</td><td>ztfg</td><td>355.32161087553584</td><td>528.2578611868671</td><td>30</td><td>ab</td><td>781</td><td>5</td><td>all_sky</td></tr>\n",
       "<tr><td>57638.50834715247</td><td>ztfr</td><td>496.6356884816409</td><td>585.6689373811489</td><td>30</td><td>ab</td><td>781</td><td>5</td><td>all_sky</td></tr>\n",
       "<tr><td>57639.49319883449</td><td>ztfg</td><td>-1112.7071252858323</td><td>540.88848202504</td><td>30</td><td>ab</td><td>781</td><td>5</td><td>all_sky</td></tr>\n",
       "<tr><td>57639.517170348794</td><td>ztfr</td><td>221.48953614664978</td><td>569.1856342438408</td><td>30</td><td>ab</td><td>781</td><td>5</td><td>all_sky</td></tr>\n",
       "<tr><td>57643.49337246782</td><td>ztfg</td><td>608.910422918301</td><td>518.6086501956214</td><td>30</td><td>ab</td><td>781</td><td>5</td><td>all_sky</td></tr>\n",
       "<tr><td>57647.48978592098</td><td>ztfr</td><td>-1300.7760579660967</td><td>1188.463450023813</td><td>30</td><td>ab</td><td>781</td><td>5</td><td>all_sky</td></tr>\n",
       "<tr><td>57647.49024888394</td><td>ztfr</td><td>2258.417624555949</td><td>1188.463450023813</td><td>30</td><td>ab</td><td>781</td><td>5</td><td>all_sky</td></tr>\n",
       "<tr><td>57647.51940756444</td><td>ztfg</td><td>442.12984942724836</td><td>933.9906344607986</td><td>30</td><td>ab</td><td>781</td><td>5</td><td>all_sky</td></tr>\n",
       "<tr><td>57648.451528856065</td><td>ztfr</td><td>173.89108738002778</td><td>1312.8618893003395</td><td>30</td><td>ab</td><td>781</td><td>5</td><td>all_sky</td></tr>\n",
       "<tr><td>57648.47325177754</td><td>ztfr</td><td>-171.927780796056</td><td>1202.1011595016118</td><td>30</td><td>ab</td><td>781</td><td>5</td><td>all_sky</td></tr>\n",
       "<tr><td>...</td><td>...</td><td>...</td><td>...</td><td>...</td><td>...</td><td>...</td><td>...</td><td>...</td></tr>\n",
       "<tr><td>57661.487685212844</td><td>ztfr</td><td>-431.5411916847549</td><td>457.17703120021815</td><td>30</td><td>ab</td><td>781</td><td>5</td><td>all_sky</td></tr>\n",
       "<tr><td>57661.51321976452</td><td>ztfg</td><td>-17.465872295173572</td><td>446.4540390640529</td><td>30</td><td>ab</td><td>781</td><td>5</td><td>all_sky</td></tr>\n",
       "<tr><td>57662.45303431503</td><td>ztfr</td><td>218.72622480657733</td><td>514.8576864372425</td><td>30</td><td>ab</td><td>781</td><td>5</td><td>all_sky</td></tr>\n",
       "<tr><td>57662.48860440247</td><td>ztfr</td><td>298.7950641112394</td><td>453.3444504673591</td><td>30</td><td>ab</td><td>781</td><td>5</td><td>all_sky</td></tr>\n",
       "<tr><td>57662.48958709119</td><td>ztfr</td><td>815.2006577100309</td><td>453.34445006631887</td><td>30</td><td>ab</td><td>781</td><td>5</td><td>all_sky</td></tr>\n",
       "<tr><td>57662.511167906334</td><td>ztfg</td><td>-51.96389214686333</td><td>444.28331338577647</td><td>30</td><td>ab</td><td>781</td><td>5</td><td>all_sky</td></tr>\n",
       "<tr><td>57663.47080696784</td><td>ztfg</td><td>-586.5353604412023</td><td>479.0493247092607</td><td>30</td><td>ab</td><td>781</td><td>5</td><td>all_sky</td></tr>\n",
       "<tr><td>57663.49141153485</td><td>ztfr</td><td>-198.64342351845895</td><td>450.8066675363706</td><td>30</td><td>ab</td><td>781</td><td>5</td><td>all_sky</td></tr>\n",
       "<tr><td>57663.49234626219</td><td>ztfr</td><td>1.1121113150068207</td><td>450.8066673625352</td><td>30</td><td>ab</td><td>781</td><td>5</td><td>all_sky</td></tr>\n",
       "<tr><td>57663.51181453953</td><td>ztfr</td><td>-292.6608887183434</td><td>449.90903760193305</td><td>30</td><td>ab</td><td>781</td><td>5</td><td>all_sky</td></tr>\n",
       "</table>"
      ],
      "text/plain": [
       "<Table length=61>\n",
       "       time        band         flux        ... field  ccd  comment \n",
       "     float64       str4       float64       ... int64 int64 unicode7\n",
       "------------------ ---- ------------------- ... ----- ----- --------\n",
       " 57638.49337179176 ztfg  355.32161087553584 ...   781     5  all_sky\n",
       " 57638.50834715247 ztfr   496.6356884816409 ...   781     5  all_sky\n",
       " 57639.49319883449 ztfg -1112.7071252858323 ...   781     5  all_sky\n",
       "57639.517170348794 ztfr  221.48953614664978 ...   781     5  all_sky\n",
       " 57643.49337246782 ztfg    608.910422918301 ...   781     5  all_sky\n",
       " 57647.48978592098 ztfr -1300.7760579660967 ...   781     5  all_sky\n",
       " 57647.49024888394 ztfr   2258.417624555949 ...   781     5  all_sky\n",
       " 57647.51940756444 ztfg  442.12984942724836 ...   781     5  all_sky\n",
       "57648.451528856065 ztfr  173.89108738002778 ...   781     5  all_sky\n",
       " 57648.47325177754 ztfr   -171.927780796056 ...   781     5  all_sky\n",
       "               ...  ...                 ... ...   ...   ...      ...\n",
       "57661.487685212844 ztfr  -431.5411916847549 ...   781     5  all_sky\n",
       " 57661.51321976452 ztfg -17.465872295173572 ...   781     5  all_sky\n",
       " 57662.45303431503 ztfr  218.72622480657733 ...   781     5  all_sky\n",
       " 57662.48860440247 ztfr   298.7950641112394 ...   781     5  all_sky\n",
       " 57662.48958709119 ztfr   815.2006577100309 ...   781     5  all_sky\n",
       "57662.511167906334 ztfg  -51.96389214686333 ...   781     5  all_sky\n",
       " 57663.47080696784 ztfg  -586.5353604412023 ...   781     5  all_sky\n",
       " 57663.49141153485 ztfr -198.64342351845895 ...   781     5  all_sky\n",
       " 57663.49234626219 ztfr  1.1121113150068207 ...   781     5  all_sky\n",
       " 57663.51181453953 ztfr  -292.6608887183434 ...   781     5  all_sky"
      ]
     },
     "execution_count": 8,
     "metadata": {},
     "output_type": "execute_result"
    }
   ],
   "source": [
    "lcs[0]"
   ]
  },
  {
   "cell_type": "code",
   "execution_count": null,
   "metadata": {},
   "outputs": [],
   "source": []
  }
 ],
 "metadata": {
  "anaconda-cloud": {},
  "kernelspec": {
   "display_name": "Python [default]",
   "language": "python",
   "name": "python2"
  },
  "language_info": {
   "codemirror_mode": {
    "name": "ipython",
    "version": 2
   },
   "file_extension": ".py",
   "mimetype": "text/x-python",
   "name": "python",
   "nbconvert_exporter": "python",
   "pygments_lexer": "ipython2",
   "version": "2.7.14"
  }
 },
 "nbformat": 4,
 "nbformat_minor": 1
}
