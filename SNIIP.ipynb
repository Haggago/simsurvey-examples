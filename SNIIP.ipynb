{
 "cells": [
  {
   "cell_type": "markdown",
   "metadata": {},
   "source": [
    "# Simulating lightcurves for SNe IIP"
   ]
  },
  {
   "cell_type": "code",
   "execution_count": 1,
   "metadata": {},
   "outputs": [],
   "source": [
    "import os\n",
    "home_dir = os.environ.get('HOME')\n",
    "\n",
    "# Please enter the filename of the ztf_sim output file you would like to use. The example first determines\n",
    "# your home directory and then uses a relative path (useful if working on several machines with different usernames)\n",
    "survey_file = os.path.join(home_dir, 'data/ZTF/test_schedule_v6.db')\n",
    "\n",
    "# Please enter the path to where you have placed the Schlegel, Finkbeiner & Davis (1998) dust map files\n",
    "# You can also set the environment variable SFD_DIR to this path (in that case the variable below should be None)\n",
    "sfd98_dir = os.path.join(home_dir, 'data/sfd98')"
   ]
  },
  {
   "cell_type": "code",
   "execution_count": 2,
   "metadata": {},
   "outputs": [],
   "source": [
    "import numpy as np\n",
    "import matplotlib.pyplot as plt\n",
    "%matplotlib inline\n",
    "\n",
    "from astropy.cosmology import Planck15\n",
    "import simsurvey\n",
    "import sncosmo\n",
    "\n",
    "import simsurvey_tools as sst"
   ]
  },
  {
   "cell_type": "code",
   "execution_count": 3,
   "metadata": {},
   "outputs": [],
   "source": [
    "# Load the ZTF CCD corners and filters\n",
    "ccds = sst.load_ztf_ccds()\n",
    "sst.load_ztf_filters()"
   ]
  },
  {
   "cell_type": "code",
   "execution_count": 4,
   "metadata": {},
   "outputs": [],
   "source": [
    "# Load simulated survey from file (download from ftp://ftp.astro.caltech.edu/users/ebellm/one_year_sim_incomplete.db)\n",
    "plan = simsurvey.SurveyPlan(load_opsim=survey_file, band_dict={'g': 'ztfg', 'r': 'ztfr', 'i': 'desi'}, ccds=ccds)\n",
    "\n",
    "mjd_range = (plan.cadence['time'].min() - 30, plan.cadence['time'].max() + 30)"
   ]
  },
  {
   "cell_type": "code",
   "execution_count": 5,
   "metadata": {},
   "outputs": [],
   "source": [
    "tr = simsurvey.get_transient_generator((0.0, 0.05), \n",
    "                                       transient='IIP',\n",
    "                                       template='nugent',\n",
    "                                       dec_range=(-30,90),\n",
    "                                       mjd_range=(mjd_range[0],\n",
    "                                                  mjd_range[1]),\n",
    "                                       sfd98_dir=sfd98_dir)"
   ]
  },
  {
   "cell_type": "code",
   "execution_count": 6,
   "metadata": {},
   "outputs": [
    {
     "name": "stderr",
     "output_type": "stream",
     "text": [
      "/home/ufeindt/.local/lib/python2.7/site-packages/simsurvey-0.4.0-py2.7.egg/simsurvey/simulsurvey.py:1355: RuntimeWarning: invalid value encountered in log10\n"
     ]
    }
   ],
   "source": [
    "survey = simsurvey.SimulSurvey(generator=tr, plan=plan)\n",
    "    \n",
    "lcs = survey.get_lightcurves(\n",
    "    #progress_bar=True, notebook=True # If you get an error because of the progress_bar, delete this line.\n",
    ")"
   ]
  },
  {
   "cell_type": "code",
   "execution_count": 7,
   "metadata": {},
   "outputs": [
    {
     "data": {
      "text/html": [
       "&lt;Table length=230&gt;\n",
       "<table id=\"table140002083032272\" class=\"table-striped table-bordered table-condensed\">\n",
       "<thead><tr><th>time</th><th>band</th><th>flux</th><th>fluxerr</th><th>zp</th><th>zpsys</th><th>field</th><th>ccd</th><th>comment</th></tr></thead>\n",
       "<thead><tr><th>float64</th><th>str4</th><th>float64</th><th>float64</th><th>int64</th><th>str2</th><th>int64</th><th>int64</th><th>unicode7</th></tr></thead>\n",
       "<tr><td>57436.19041179086</td><td>ztfr</td><td>4260.800235916538</td><td>1260.6324953811936</td><td>30</td><td>ab</td><td>559</td><td>14</td><td>all_sky</td></tr>\n",
       "<tr><td>57436.21533387271</td><td>desi</td><td>6325.755308284957</td><td>1006.2928026982853</td><td>30</td><td>ab</td><td>559</td><td>14</td><td>i_band</td></tr>\n",
       "<tr><td>57436.24982064975</td><td>ztfg</td><td>2626.886446087028</td><td>1174.3298920855411</td><td>30</td><td>ab</td><td>559</td><td>14</td><td>all_sky</td></tr>\n",
       "<tr><td>57437.19182732894</td><td>ztfr</td><td>1978.0786848419248</td><td>1326.5222750615956</td><td>30</td><td>ab</td><td>559</td><td>14</td><td>all_sky</td></tr>\n",
       "<tr><td>57437.22551764247</td><td>ztfg</td><td>3444.5679522207624</td><td>1133.1690658945372</td><td>30</td><td>ab</td><td>559</td><td>14</td><td>all_sky</td></tr>\n",
       "<tr><td>57437.28797284913</td><td>desi</td><td>7552.784076782711</td><td>1988.0630806927395</td><td>30</td><td>ab</td><td>559</td><td>14</td><td>i_band</td></tr>\n",
       "<tr><td>57438.14431067917</td><td>ztfr</td><td>5603.968200967024</td><td>1047.4610249267737</td><td>30</td><td>ab</td><td>559</td><td>14</td><td>all_sky</td></tr>\n",
       "<tr><td>57438.22777775268</td><td>ztfg</td><td>1879.6693034334526</td><td>1247.4645344991693</td><td>30</td><td>ab</td><td>559</td><td>14</td><td>all_sky</td></tr>\n",
       "<tr><td>57438.28688218023</td><td>desi</td><td>2088.6574682580417</td><td>2234.870868785297</td><td>30</td><td>ab</td><td>559</td><td>14</td><td>i_band</td></tr>\n",
       "<tr><td>57439.12272417054</td><td>desi</td><td>4302.687762611808</td><td>961.7891333292437</td><td>30</td><td>ab</td><td>559</td><td>14</td><td>i_band</td></tr>\n",
       "<tr><td>...</td><td>...</td><td>...</td><td>...</td><td>...</td><td>...</td><td>...</td><td>...</td><td>...</td></tr>\n",
       "<tr><td>57700.3377396112</td><td>ztfr</td><td>12007.671685946778</td><td>497.7104011092931</td><td>30</td><td>ab</td><td>559</td><td>14</td><td>all_sky</td></tr>\n",
       "<tr><td>57700.37803687262</td><td>ztfr</td><td>12995.615500431575</td><td>495.1035657264837</td><td>30</td><td>ab</td><td>559</td><td>14</td><td>all_sky</td></tr>\n",
       "<tr><td>57700.40056679267</td><td>ztfg</td><td>2327.2736857409195</td><td>439.5787671640633</td><td>30</td><td>ab</td><td>559</td><td>14</td><td>all_sky</td></tr>\n",
       "<tr><td>57703.294842647454</td><td>ztfr</td><td>13454.625204096836</td><td>909.3858202111155</td><td>30</td><td>ab</td><td>559</td><td>14</td><td>all_sky</td></tr>\n",
       "<tr><td>57703.295305610416</td><td>ztfr</td><td>12282.011131700447</td><td>909.3858420820067</td><td>30</td><td>ab</td><td>559</td><td>14</td><td>all_sky</td></tr>\n",
       "<tr><td>57703.315631004596</td><td>ztfr</td><td>12390.865354101685</td><td>910.1283740163735</td><td>30</td><td>ab</td><td>559</td><td>14</td><td>all_sky</td></tr>\n",
       "<tr><td>57703.414657258225</td><td>ztfg</td><td>2065.2797333562903</td><td>688.5127065355729</td><td>30</td><td>ab</td><td>559</td><td>14</td><td>all_sky</td></tr>\n",
       "<tr><td>57704.353570489526</td><td>ztfr</td><td>12629.447589923455</td><td>1081.07066887039</td><td>30</td><td>ab</td><td>559</td><td>14</td><td>all_sky</td></tr>\n",
       "<tr><td>57704.45359145785</td><td>ztfg</td><td>4058.2876491450825</td><td>921.0815948652966</td><td>30</td><td>ab</td><td>559</td><td>14</td><td>all_sky</td></tr>\n",
       "<tr><td>57705.320562272194</td><td>desi</td><td>24453.102388324198</td><td>1222.793164243468</td><td>30</td><td>ab</td><td>559</td><td>14</td><td>i_band</td></tr>\n",
       "</table>"
      ],
      "text/plain": [
       "<Table length=230>\n",
       "       time        band        flux        ... field  ccd  comment \n",
       "     float64       str4      float64       ... int64 int64 unicode7\n",
       "------------------ ---- ------------------ ... ----- ----- --------\n",
       " 57436.19041179086 ztfr  4260.800235916538 ...   559    14  all_sky\n",
       " 57436.21533387271 desi  6325.755308284957 ...   559    14   i_band\n",
       " 57436.24982064975 ztfg  2626.886446087028 ...   559    14  all_sky\n",
       " 57437.19182732894 ztfr 1978.0786848419248 ...   559    14  all_sky\n",
       " 57437.22551764247 ztfg 3444.5679522207624 ...   559    14  all_sky\n",
       " 57437.28797284913 desi  7552.784076782711 ...   559    14   i_band\n",
       " 57438.14431067917 ztfr  5603.968200967024 ...   559    14  all_sky\n",
       " 57438.22777775268 ztfg 1879.6693034334526 ...   559    14  all_sky\n",
       " 57438.28688218023 desi 2088.6574682580417 ...   559    14   i_band\n",
       " 57439.12272417054 desi  4302.687762611808 ...   559    14   i_band\n",
       "               ...  ...                ... ...   ...   ...      ...\n",
       "  57700.3377396112 ztfr 12007.671685946778 ...   559    14  all_sky\n",
       " 57700.37803687262 ztfr 12995.615500431575 ...   559    14  all_sky\n",
       " 57700.40056679267 ztfg 2327.2736857409195 ...   559    14  all_sky\n",
       "57703.294842647454 ztfr 13454.625204096836 ...   559    14  all_sky\n",
       "57703.295305610416 ztfr 12282.011131700447 ...   559    14  all_sky\n",
       "57703.315631004596 ztfr 12390.865354101685 ...   559    14  all_sky\n",
       "57703.414657258225 ztfg 2065.2797333562903 ...   559    14  all_sky\n",
       "57704.353570489526 ztfr 12629.447589923455 ...   559    14  all_sky\n",
       " 57704.45359145785 ztfg 4058.2876491450825 ...   559    14  all_sky\n",
       "57705.320562272194 desi 24453.102388324198 ...   559    14   i_band"
      ]
     },
     "execution_count": 7,
     "metadata": {},
     "output_type": "execute_result"
    }
   ],
   "source": [
    "lcs[0]"
   ]
  },
  {
   "cell_type": "code",
   "execution_count": null,
   "metadata": {},
   "outputs": [],
   "source": []
  }
 ],
 "metadata": {
  "anaconda-cloud": {},
  "kernelspec": {
   "display_name": "Python [default]",
   "language": "python",
   "name": "python2"
  },
  "language_info": {
   "codemirror_mode": {
    "name": "ipython",
    "version": 2
   },
   "file_extension": ".py",
   "mimetype": "text/x-python",
   "name": "python",
   "nbconvert_exporter": "python",
   "pygments_lexer": "ipython2",
   "version": "2.7.14"
  }
 },
 "nbformat": 4,
 "nbformat_minor": 1
}
