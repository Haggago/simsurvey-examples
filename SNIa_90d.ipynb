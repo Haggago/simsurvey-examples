{
 "cells": [
  {
   "cell_type": "markdown",
   "metadata": {},
   "source": [
    "# Simulating lightcurves for SNe Ia\n",
    "\n",
    "This notebooks shows an example of a simulating SN Ia lightcurves based on the SALT2 template for 90 days of ZTF observations. (The survey is restricted to 90 days in order to run reasonably fast. A similar simulation for a 3-year survey can be generated using SNIa_3yr.py.)"
   ]
  },
  {
   "cell_type": "code",
   "execution_count": 17,
   "metadata": {
    "collapsed": false
   },
   "outputs": [],
   "source": [
    "import warnings\n",
    "## No annoying warnings\n",
    "warnings.filterwarnings('ignore')\n",
    "\n",
    "import numpy as np\n",
    "import matplotlib.pyplot as plt\n",
    "%matplotlib inline\n",
    "\n",
    "import simsurvey.cadence as simul\n",
    "\n",
    "import simsurvey_tools as sst"
   ]
  },
  {
   "cell_type": "code",
   "execution_count": 18,
   "metadata": {
    "collapsed": true
   },
   "outputs": [],
   "source": [
    "# Set the time frame for the survey (90 days)\n",
    "mjd_range = (58000, 58090)"
   ]
  },
  {
   "cell_type": "markdown",
   "metadata": {},
   "source": [
    "The transient generator randomly draws all parameters needed to simulate the lightcurves. For the SALT2 template most things are predefined. The only input required is the frame, which should be set to include a number of days before and after the survey in order to simulate all SNe that may be visible during the observations. Additionally, to reduce the computation time, the  coordinate ranges can be restricted such that only few SNe outside the observed part of the sky are simulated."
   ]
  },
  {
   "cell_type": "code",
   "execution_count": 7,
   "metadata": {
    "collapsed": true
   },
   "outputs": [],
   "source": [
    "tr = simul.get_sn_generator([0.,0.2], ratekind=\"basic\", \n",
    "                            dec_range=[-40,90],\n",
    "                            mjd_range=[mjd_range[0] - 60, mjd_range[-1] + 24])"
   ]
  },
  {
   "cell_type": "markdown",
   "metadata": {},
   "source": [
    "The plan object collects all required information of the survey strategy. The function used below generates a simple mock survey to get a basic idea of what we can expect from ZTF, see its docstring in `simsurvey_tools.py` for more information. The output of Eric's `ztf_sim` code can also be loaded into a plan object, see `plan_from_ztf_sim.ipynb`. (Currently the code uses DES $gri$ filters instead of the ZTF ones, which be included later.)"
   ]
  },
  {
   "cell_type": "code",
   "execution_count": 10,
   "metadata": {
    "collapsed": true
   },
   "outputs": [],
   "source": [
    "plan = sst.get_survey_plan_simple(mjd_range=mjd_range)"
   ]
  },
  {
   "cell_type": "code",
   "execution_count": 13,
   "metadata": {
    "collapsed": false
   },
   "outputs": [
    {
     "data": {
      "text/html": [
       "&lt;Table length=58240&gt;\n",
       "<table id=\"table140610896610192\">\n",
       "<thead><tr><th>band</th><th>skynoise</th><th>field</th><th>RA</th><th>time</th><th>Dec</th></tr></thead>\n",
       "<thead><tr><th>str4</th><th>float64</th><th>int64</th><th>float64</th><th>float64</th><th>float64</th></tr></thead>\n",
       "<tr><td>desr</td><td>800.0</td><td>661</td><td>57.69565</td><td>58000.0</td><td>31.75385</td></tr>\n",
       "<tr><td>desr</td><td>800.0</td><td>666</td><td>96.82609</td><td>58000.0005208</td><td>31.75385</td></tr>\n",
       "<tr><td>desr</td><td>800.0</td><td>662</td><td>65.52174</td><td>58000.0010417</td><td>31.75385</td></tr>\n",
       "<tr><td>desr</td><td>800.0</td><td>659</td><td>42.04348</td><td>58000.0015625</td><td>31.75385</td></tr>\n",
       "<tr><td>desr</td><td>800.0</td><td>658</td><td>34.21739</td><td>58000.0020833</td><td>31.75385</td></tr>\n",
       "<tr><td>desr</td><td>800.0</td><td>667</td><td>104.65217</td><td>58000.0026042</td><td>31.75385</td></tr>\n",
       "<tr><td>desr</td><td>800.0</td><td>665</td><td>89.0</td><td>58000.003125</td><td>31.75385</td></tr>\n",
       "<tr><td>desr</td><td>800.0</td><td>654</td><td>2.91304</td><td>58000.0036458</td><td>31.75385</td></tr>\n",
       "<tr><td>desr</td><td>800.0</td><td>656</td><td>18.56522</td><td>58000.0041667</td><td>31.75385</td></tr>\n",
       "<tr><td>desr</td><td>800.0</td><td>660</td><td>49.86957</td><td>58000.0046875</td><td>31.75385</td></tr>\n",
       "<tr><td>...</td><td>...</td><td>...</td><td>...</td><td>...</td><td>...</td></tr>\n",
       "<tr><td>desg</td><td>800.0</td><td>716</td><td>140.42857</td><td>58090.328125</td><td>38.67692</td></tr>\n",
       "<tr><td>desg</td><td>800.0</td><td>719</td><td>166.14286</td><td>58090.3286458</td><td>38.67692</td></tr>\n",
       "<tr><td>desg</td><td>800.0</td><td>722</td><td>191.85714</td><td>58090.3291667</td><td>38.67692</td></tr>\n",
       "<tr><td>desg</td><td>800.0</td><td>723</td><td>200.42857</td><td>58090.3296875</td><td>38.67692</td></tr>\n",
       "<tr><td>desg</td><td>800.0</td><td>720</td><td>174.71429</td><td>58090.3302083</td><td>38.67692</td></tr>\n",
       "<tr><td>desg</td><td>800.0</td><td>1584</td><td>207.345</td><td>58090.3307292</td><td>21.13269</td></tr>\n",
       "<tr><td>desg</td><td>800.0</td><td>1579</td><td>171.345</td><td>58090.33125</td><td>21.13269</td></tr>\n",
       "<tr><td>desg</td><td>800.0</td><td>1580</td><td>178.545</td><td>58090.3317708</td><td>21.13269</td></tr>\n",
       "<tr><td>desg</td><td>800.0</td><td>1569</td><td>99.345</td><td>58090.3322917</td><td>21.13269</td></tr>\n",
       "<tr><td>desg</td><td>800.0</td><td>1583</td><td>200.145</td><td>58090.3328125</td><td>21.13269</td></tr>\n",
       "</table>"
      ],
      "text/plain": [
       "<Table length=58240>\n",
       "band skynoise field     RA         time       Dec   \n",
       "str4 float64  int64  float64     float64    float64 \n",
       "---- -------- ----- --------- ------------- --------\n",
       "desr    800.0   661  57.69565       58000.0 31.75385\n",
       "desr    800.0   666  96.82609 58000.0005208 31.75385\n",
       "desr    800.0   662  65.52174 58000.0010417 31.75385\n",
       "desr    800.0   659  42.04348 58000.0015625 31.75385\n",
       "desr    800.0   658  34.21739 58000.0020833 31.75385\n",
       "desr    800.0   667 104.65217 58000.0026042 31.75385\n",
       "desr    800.0   665      89.0  58000.003125 31.75385\n",
       "desr    800.0   654   2.91304 58000.0036458 31.75385\n",
       "desr    800.0   656  18.56522 58000.0041667 31.75385\n",
       "desr    800.0   660  49.86957 58000.0046875 31.75385\n",
       " ...      ...   ...       ...           ...      ...\n",
       "desg    800.0   716 140.42857  58090.328125 38.67692\n",
       "desg    800.0   719 166.14286 58090.3286458 38.67692\n",
       "desg    800.0   722 191.85714 58090.3291667 38.67692\n",
       "desg    800.0   723 200.42857 58090.3296875 38.67692\n",
       "desg    800.0   720 174.71429 58090.3302083 38.67692\n",
       "desg    800.0  1584   207.345 58090.3307292 21.13269\n",
       "desg    800.0  1579   171.345   58090.33125 21.13269\n",
       "desg    800.0  1580   178.545 58090.3317708 21.13269\n",
       "desg    800.0  1569    99.345 58090.3322917 21.13269\n",
       "desg    800.0  1583   200.145 58090.3328125 21.13269"
      ]
     },
     "execution_count": 13,
     "metadata": {},
     "output_type": "execute_result"
    }
   ],
   "source": [
    "plan.cadence"
   ]
  },
  {
   "cell_type": "markdown",
   "metadata": {},
   "source": [
    "Lastly, some basic properties of the instrument used in the survey must be defined but these are mostly chosen in order to get specific depths of the observations and need not be changed."
   ]
  },
  {
   "cell_type": "code",
   "execution_count": 14,
   "metadata": {
    "collapsed": true
   },
   "outputs": [],
   "source": [
    "instprop = {\"desg\":{\"gain\":1.,\"zp\":30,\"zpsys\":'ab'},\n",
    "            \"desr\":{\"gain\":1.,\"zp\":30,\"zpsys\":'ab'},\n",
    "            \"desi\":{\"gain\":1.,\"zp\":30,\"zpsys\":'ab'}}"
   ]
  },
  {
   "cell_type": "markdown",
   "metadata": {},
   "source": [
    "These three components are collected in a SimulSurvey object, which is then used to generate the lightcurves."
   ]
  },
  {
   "cell_type": "code",
   "execution_count": 15,
   "metadata": {
    "collapsed": false
   },
   "outputs": [
    {
     "name": "stdout",
     "output_type": "stream",
     "text": [
      "Determining field IDs for all objects\n",
      "\n",
      "Generating lightcurves\n",
      "\n"
     ]
    },
    {
     "name": "stderr",
     "output_type": "stream",
     "text": [
      "WARNING: \"FloatProgressWidget\" is deprecated, please use \"FloatProgress\" instead.\n"
     ]
    }
   ],
   "source": [
    "survey = simul.SimulSurvey(generator=tr, \n",
    "                           plan=plan, \n",
    "                           instprop=instprop)\n",
    "\n",
    "lcs = survey.get_lightcurves(\n",
    "    # This cell may give an error because of the progress bar widget.\n",
    "    # Just delete the following line to fix this.\n",
    "    progress_bar=True, notebook=True\n",
    ")"
   ]
  },
  {
   "cell_type": "markdown",
   "metadata": {},
   "source": [
    "The output is a LightcurveCollection object that organizes the lightcurves and can be accessed as shown below."
   ]
  },
  {
   "cell_type": "code",
   "execution_count": 16,
   "metadata": {
    "collapsed": false
   },
   "outputs": [
    {
     "data": {
      "text/html": [
       "&lt;Table length=20&gt;\n",
       "<table id=\"table140610896610832\">\n",
       "<thead><tr><th>time</th><th>band</th><th>flux</th><th>fluxerr</th><th>zp</th><th>zpsys</th></tr></thead>\n",
       "<thead><tr><th>float64</th><th>str4</th><th>float64</th><th>float64</th><th>int64</th><th>str2</th></tr></thead>\n",
       "<tr><td>58000.0817708</td><td>desr</td><td>976.294141652</td><td>800.671506018</td><td>30</td><td>ab</td></tr>\n",
       "<tr><td>58000.1651042</td><td>desr</td><td>1016.71805025</td><td>800.669063892</td><td>30</td><td>ab</td></tr>\n",
       "<tr><td>58005.0822917</td><td>desr</td><td>407.243481752</td><td>800.53302942</td><td>30</td><td>ab</td></tr>\n",
       "<tr><td>58005.165625</td><td>desr</td><td>176.673854044</td><td>800.530805205</td><td>30</td><td>ab</td></tr>\n",
       "<tr><td>58006.08125</td><td>desr</td><td>648.443789384</td><td>800.506535696</td><td>30</td><td>ab</td></tr>\n",
       "<tr><td>58006.1645833</td><td>desr</td><td>950.798403662</td><td>800.504342782</td><td>30</td><td>ab</td></tr>\n",
       "<tr><td>58011.0817708</td><td>desr</td><td>1473.66450853</td><td>800.388890557</td><td>30</td><td>ab</td></tr>\n",
       "<tr><td>58011.1651042</td><td>desr</td><td>405.637855062</td><td>800.387382669</td><td>30</td><td>ab</td></tr>\n",
       "<tr><td>58019.0807292</td><td>desr</td><td>1113.23450336</td><td>800.298638615</td><td>30</td><td>ab</td></tr>\n",
       "<tr><td>58019.1640625</td><td>desr</td><td>273.612473856</td><td>800.298036635</td><td>30</td><td>ab</td></tr>\n",
       "<tr><td>58020.0828125</td><td>desr</td><td>937.859793399</td><td>800.29153392</td><td>30</td><td>ab</td></tr>\n",
       "<tr><td>58020.1661458</td><td>desr</td><td>344.118100849</td><td>800.290956298</td><td>30</td><td>ab</td></tr>\n",
       "<tr><td>58022.0817708</td><td>desr</td><td>1262.50129691</td><td>800.278235385</td><td>30</td><td>ab</td></tr>\n",
       "<tr><td>58022.1651042</td><td>desr</td><td>754.314774383</td><td>800.277706227</td><td>30</td><td>ab</td></tr>\n",
       "<tr><td>58027.0828125</td><td>desr</td><td>-67.1119524953</td><td>800.250079326</td><td>30</td><td>ab</td></tr>\n",
       "<tr><td>58027.1661458</td><td>desr</td><td>604.514441986</td><td>800.249672682</td><td>30</td><td>ab</td></tr>\n",
       "<tr><td>58029.0828125</td><td>desr</td><td>-71.6237159189</td><td>800.240894045</td><td>30</td><td>ab</td></tr>\n",
       "<tr><td>58029.1661458</td><td>desr</td><td>395.362127538</td><td>800.240537486</td><td>30</td><td>ab</td></tr>\n",
       "<tr><td>58039.0828125</td><td>desr</td><td>-81.9604081385</td><td>800.236234128</td><td>30</td><td>ab</td></tr>\n",
       "<tr><td>58039.1661458</td><td>desr</td><td>1268.90716747</td><td>800.236234128</td><td>30</td><td>ab</td></tr>\n",
       "</table>"
      ],
      "text/plain": [
       "<Table length=20>\n",
       "     time     band      flux         fluxerr      zp  zpsys\n",
       "   float64    str4    float64        float64    int64  str2\n",
       "------------- ---- -------------- ------------- ----- -----\n",
       "58000.0817708 desr  976.294141652 800.671506018    30    ab\n",
       "58000.1651042 desr  1016.71805025 800.669063892    30    ab\n",
       "58005.0822917 desr  407.243481752  800.53302942    30    ab\n",
       " 58005.165625 desr  176.673854044 800.530805205    30    ab\n",
       "  58006.08125 desr  648.443789384 800.506535696    30    ab\n",
       "58006.1645833 desr  950.798403662 800.504342782    30    ab\n",
       "58011.0817708 desr  1473.66450853 800.388890557    30    ab\n",
       "58011.1651042 desr  405.637855062 800.387382669    30    ab\n",
       "58019.0807292 desr  1113.23450336 800.298638615    30    ab\n",
       "58019.1640625 desr  273.612473856 800.298036635    30    ab\n",
       "58020.0828125 desr  937.859793399  800.29153392    30    ab\n",
       "58020.1661458 desr  344.118100849 800.290956298    30    ab\n",
       "58022.0817708 desr  1262.50129691 800.278235385    30    ab\n",
       "58022.1651042 desr  754.314774383 800.277706227    30    ab\n",
       "58027.0828125 desr -67.1119524953 800.250079326    30    ab\n",
       "58027.1661458 desr  604.514441986 800.249672682    30    ab\n",
       "58029.0828125 desr -71.6237159189 800.240894045    30    ab\n",
       "58029.1661458 desr  395.362127538 800.240537486    30    ab\n",
       "58039.0828125 desr -81.9604081385 800.236234128    30    ab\n",
       "58039.1661458 desr  1268.90716747 800.236234128    30    ab"
      ]
     },
     "execution_count": 16,
     "metadata": {},
     "output_type": "execute_result"
    }
   ],
   "source": [
    "lcs[0]"
   ]
  },
  {
   "cell_type": "code",
   "execution_count": null,
   "metadata": {
    "collapsed": true
   },
   "outputs": [],
   "source": []
  }
 ],
 "metadata": {
  "kernelspec": {
   "display_name": "Python 2",
   "language": "python",
   "name": "python2"
  },
  "language_info": {
   "codemirror_mode": {
    "name": "ipython",
    "version": 2
   },
   "file_extension": ".py",
   "mimetype": "text/x-python",
   "name": "python",
   "nbconvert_exporter": "python",
   "pygments_lexer": "ipython2",
   "version": "2.7.6"
  }
 },
 "nbformat": 4,
 "nbformat_minor": 0
}
