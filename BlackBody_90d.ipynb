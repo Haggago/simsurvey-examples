{
 "cells": [
  {
   "cell_type": "markdown",
   "metadata": {},
   "source": [
    "# Simulating lightcurves using a black body spectrum\n",
    "\n",
    "This notebooks shows an example of a simulating lightcurves with a blackbody SED for 90 days of ZTF observations. (The survey is restricted to 90 days in order to run reasonably fast. A similar simulation for a 3-year survey can be generated using `BlackBody_3yr.py` [TBA].)"
   ]
  },
  {
   "cell_type": "code",
   "execution_count": 2,
   "metadata": {
    "collapsed": false
   },
   "outputs": [],
   "source": [
    "import warnings\n",
    "## No annoying warnings\n",
    "warnings.filterwarnings('ignore')\n",
    "\n",
    "import numpy as np\n",
    "import matplotlib.pyplot as plt\n",
    "%matplotlib inline\n",
    "\n",
    "import simsurvey.cadence as simul\n",
    "import sncosmo\n",
    "\n",
    "import simsurvey_tools as sst"
   ]
  },
  {
   "cell_type": "code",
   "execution_count": 17,
   "metadata": {
    "collapsed": true
   },
   "outputs": [],
   "source": [
    "# Set the time frame for the survey (90 days)\n",
    "mjd_range = (58000, 58090)"
   ]
  },
  {
   "cell_type": "markdown",
   "metadata": {},
   "source": [
    "The transient generator randomly draws all parameters needed to simulate the lightcurves. For this simulation, one can use `BlackBodySource` included in `simsurvey` to create a model. In addition, one needs to define a function the randomizes the parameters (temperature, peak magnitude and host $E(B-V)$ in this case) and a rate function. \n",
    "\n",
    "Further required input is the time frame, which should be set to include a number of days before and after the survey in order to simulate all SNe that may be visible during the observations. Additionally, to reduce the computation time, the  coordinate ranges can be restricted such that only few SNe outside the observed part of the sky are simulated."
   ]
  },
  {
   "cell_type": "code",
   "execution_count": 23,
   "metadata": {
    "collapsed": false
   },
   "outputs": [],
   "source": [
    "# Need to define a basic lightcurve shape in arbitrary flux units\n",
    "# Using eq. (1) of Bazin et al. (2011) for a basic shape\n",
    "t_rise = 2.\n",
    "t_fall = 10.\n",
    "phase = np.linspace(-6*t_rise, 4*t_fall, 100)\n",
    "flux = np.exp(-phase/t_fall)/(1 + np.exp(-phase/t_rise))\n",
    "\n",
    "source = simul.BlackBodySource(phase, flux)\n",
    "\n",
    "dust = sncosmo.CCM89Dust()\n",
    "model = sncosmo.Model(source=source,\n",
    "                      effects=[dust],\n",
    "                      effect_names=['host'],\n",
    "                      effect_frames=['rest'])\n",
    "\n",
    "def random_parameters(redshifts, model,\n",
    "                      mag=(-17.5, 0.5),\n",
    "                      T=(2e4, 5e3),\n",
    "                      r_v=2., ebv_rate=0.11,\n",
    "                      **kwargs):\n",
    "    temperatures = np.random.uniform(T[0]-T[1], T[0]+T[1], len(redshifts))\n",
    "    \n",
    "    # Amplitude\n",
    "    amp = []\n",
    "    for z, temp in zip(redshifts, temperatures):\n",
    "        model.set(z=z, T=temp)\n",
    "        mabs = np.random.normal(mag[0], mag[1])\n",
    "        model.set_source_peakabsmag(mabs, 'bessellb', 'vega')\n",
    "        amp.append(model.get('amplitude'))\n",
    "\n",
    "    return {\n",
    "        'amplitude': np.array(amp),\n",
    "        'T': temperatures,\n",
    "        'hostr_v': r_v * np.ones(len(redshifts)),\n",
    "        'hostebv': np.random.exponential(ebv_rate, len(redshifts))\n",
    "    }\n",
    "\n",
    "transientprop = dict(lcmodel=model,\n",
    "                    lcsimul_func=random_parameters,\n",
    "                    lcsimul_prop=dict(mag=(-17.5, 0.5)))\n",
    "\n",
    "tr = simul.get_transient_generator([0.0, 0.1], ratekind='custom',\n",
    "                                   ratefunc=lambda z: 1e-6,\n",
    "                                   dec_range=[-40,90],\n",
    "                                   mjd_range=[mjd_range[0] - 90,\n",
    "                                              mjd_range[1] + 25],\n",
    "                                   transientprop=transientprop)"
   ]
  },
  {
   "cell_type": "markdown",
   "metadata": {},
   "source": [
    "The plan object collects all required information of the survey strategy. The function used below generates a simple mock survey to get a basic idea of what we can expect from ZTF, see its docstring in `simsurvey_tools.py` for more information. The output of Eric's `ztf_sim` code can also be loaded into a plan object, see `plan_from_ztf_sim.ipynb`. (Currently the code uses DES $gri$ filters instead of the ZTF ones, which be included later.)"
   ]
  },
  {
   "cell_type": "code",
   "execution_count": 24,
   "metadata": {
    "collapsed": true
   },
   "outputs": [],
   "source": [
    "plan = sst.get_survey_plan_simple(mjd_range=mjd_range)"
   ]
  },
  {
   "cell_type": "code",
   "execution_count": 25,
   "metadata": {
    "collapsed": false
   },
   "outputs": [
    {
     "data": {
      "text/html": [
       "&lt;Table length=58331&gt;\n",
       "<table id=\"table140189895977680\">\n",
       "<thead><tr><th>band</th><th>skynoise</th><th>field</th><th>RA</th><th>time</th><th>Dec</th></tr></thead>\n",
       "<thead><tr><th>str4</th><th>float64</th><th>int64</th><th>float64</th><th>float64</th><th>float64</th></tr></thead>\n",
       "<tr><td>desr</td><td>800.0</td><td>661</td><td>57.69565</td><td>58000.0</td><td>31.75385</td></tr>\n",
       "<tr><td>desr</td><td>800.0</td><td>666</td><td>96.82609</td><td>58000.0005208</td><td>31.75385</td></tr>\n",
       "<tr><td>desr</td><td>800.0</td><td>662</td><td>65.52174</td><td>58000.0010417</td><td>31.75385</td></tr>\n",
       "<tr><td>desr</td><td>800.0</td><td>659</td><td>42.04348</td><td>58000.0015625</td><td>31.75385</td></tr>\n",
       "<tr><td>desr</td><td>800.0</td><td>658</td><td>34.21739</td><td>58000.0020833</td><td>31.75385</td></tr>\n",
       "<tr><td>desr</td><td>800.0</td><td>667</td><td>104.65217</td><td>58000.0026042</td><td>31.75385</td></tr>\n",
       "<tr><td>desr</td><td>800.0</td><td>665</td><td>89.0</td><td>58000.003125</td><td>31.75385</td></tr>\n",
       "<tr><td>desr</td><td>800.0</td><td>654</td><td>2.91304</td><td>58000.0036458</td><td>31.75385</td></tr>\n",
       "<tr><td>desr</td><td>800.0</td><td>656</td><td>18.56522</td><td>58000.0041667</td><td>31.75385</td></tr>\n",
       "<tr><td>desr</td><td>800.0</td><td>660</td><td>49.86957</td><td>58000.0046875</td><td>31.75385</td></tr>\n",
       "<tr><td>...</td><td>...</td><td>...</td><td>...</td><td>...</td><td>...</td></tr>\n",
       "<tr><td>desg</td><td>800.0</td><td>719</td><td>166.14286</td><td>58090.3286458</td><td>38.67692</td></tr>\n",
       "<tr><td>desg</td><td>800.0</td><td>722</td><td>191.85714</td><td>58090.3291667</td><td>38.67692</td></tr>\n",
       "<tr><td>desg</td><td>800.0</td><td>723</td><td>200.42857</td><td>58090.3296875</td><td>38.67692</td></tr>\n",
       "<tr><td>desg</td><td>800.0</td><td>720</td><td>174.71429</td><td>58090.3302083</td><td>38.67692</td></tr>\n",
       "<tr><td>desg</td><td>800.0</td><td>1584</td><td>207.345</td><td>58090.3307292</td><td>21.13269</td></tr>\n",
       "<tr><td>desg</td><td>800.0</td><td>1579</td><td>171.345</td><td>58090.33125</td><td>21.13269</td></tr>\n",
       "<tr><td>desg</td><td>800.0</td><td>1580</td><td>178.545</td><td>58090.3317708</td><td>21.13269</td></tr>\n",
       "<tr><td>desg</td><td>800.0</td><td>1569</td><td>99.345</td><td>58090.3322917</td><td>21.13269</td></tr>\n",
       "<tr><td>desg</td><td>800.0</td><td>1583</td><td>200.145</td><td>58090.3328125</td><td>21.13269</td></tr>\n",
       "<tr><td>desr</td><td>800.0</td><td>667</td><td>104.65217</td><td>58090.3333333</td><td>31.75385</td></tr>\n",
       "</table>"
      ],
      "text/plain": [
       "<Table length=58331>\n",
       "band skynoise field     RA         time       Dec   \n",
       "str4 float64  int64  float64     float64    float64 \n",
       "---- -------- ----- --------- ------------- --------\n",
       "desr    800.0   661  57.69565       58000.0 31.75385\n",
       "desr    800.0   666  96.82609 58000.0005208 31.75385\n",
       "desr    800.0   662  65.52174 58000.0010417 31.75385\n",
       "desr    800.0   659  42.04348 58000.0015625 31.75385\n",
       "desr    800.0   658  34.21739 58000.0020833 31.75385\n",
       "desr    800.0   667 104.65217 58000.0026042 31.75385\n",
       "desr    800.0   665      89.0  58000.003125 31.75385\n",
       "desr    800.0   654   2.91304 58000.0036458 31.75385\n",
       "desr    800.0   656  18.56522 58000.0041667 31.75385\n",
       "desr    800.0   660  49.86957 58000.0046875 31.75385\n",
       " ...      ...   ...       ...           ...      ...\n",
       "desg    800.0   719 166.14286 58090.3286458 38.67692\n",
       "desg    800.0   722 191.85714 58090.3291667 38.67692\n",
       "desg    800.0   723 200.42857 58090.3296875 38.67692\n",
       "desg    800.0   720 174.71429 58090.3302083 38.67692\n",
       "desg    800.0  1584   207.345 58090.3307292 21.13269\n",
       "desg    800.0  1579   171.345   58090.33125 21.13269\n",
       "desg    800.0  1580   178.545 58090.3317708 21.13269\n",
       "desg    800.0  1569    99.345 58090.3322917 21.13269\n",
       "desg    800.0  1583   200.145 58090.3328125 21.13269\n",
       "desr    800.0   667 104.65217 58090.3333333 31.75385"
      ]
     },
     "execution_count": 25,
     "metadata": {},
     "output_type": "execute_result"
    }
   ],
   "source": [
    "plan.cadence"
   ]
  },
  {
   "cell_type": "markdown",
   "metadata": {},
   "source": [
    "Lastly, some basic properties of the instrument used in the survey must be defined but these are mostly chosen in order to get specific depths of the observations and need not be changed."
   ]
  },
  {
   "cell_type": "code",
   "execution_count": 26,
   "metadata": {
    "collapsed": true
   },
   "outputs": [],
   "source": [
    "instprop = {\"desg\":{\"gain\":1.,\"zp\":30,\"zpsys\":'ab'},\n",
    "            \"desr\":{\"gain\":1.,\"zp\":30,\"zpsys\":'ab'},\n",
    "            \"desi\":{\"gain\":1.,\"zp\":30,\"zpsys\":'ab'}}"
   ]
  },
  {
   "cell_type": "markdown",
   "metadata": {},
   "source": [
    "These three components are collected in a SimulSurvey object, which is then used to generate the lightcurves."
   ]
  },
  {
   "cell_type": "code",
   "execution_count": 27,
   "metadata": {
    "collapsed": false
   },
   "outputs": [
    {
     "name": "stdout",
     "output_type": "stream",
     "text": [
      "Determining field IDs for all objects\n",
      "\n",
      "Generating lightcurves\n",
      "\n",
      "SNe observed: 21 out of 145\n"
     ]
    },
    {
     "name": "stderr",
     "output_type": "stream",
     "text": [
      "WARNING: \"FloatProgressWidget\" is deprecated, please use \"FloatProgress\" instead.\n"
     ]
    }
   ],
   "source": [
    "survey = simul.SimulSurvey(generator=tr, \n",
    "                           plan=plan, \n",
    "                           instprop=instprop)\n",
    "\n",
    "lcs = survey.get_lightcurves(\n",
    "    # This cell may give an error because of the progress bar widget.\n",
    "    # Just delete the following line to fix this.\n",
    "    progress_bar=True, notebook=True\n",
    ")\n",
    "\n",
    "idx = lcs.meta['idx_orig']\n",
    "n_obs = np.zeros(survey.generator.ntransient)\n",
    "n_obs[idx] = np.array([len(a) for a in lcs])\n",
    "\n",
    "print 'SNe observed: %i out of %i'%(np.sum(n_obs > 0),\n",
    "                                    survey.generator.ntransient)"
   ]
  },
  {
   "cell_type": "markdown",
   "metadata": {},
   "source": [
    "The output is a LightcurveCollection object that organizes the lightcurves and can be accessed as shown below."
   ]
  },
  {
   "cell_type": "code",
   "execution_count": 28,
   "metadata": {
    "collapsed": false
   },
   "outputs": [
    {
     "data": {
      "text/html": [
       "&lt;Table length=60&gt;\n",
       "<table id=\"table140189895977104\">\n",
       "<thead><tr><th>time</th><th>band</th><th>flux</th><th>fluxerr</th><th>zp</th><th>zpsys</th></tr></thead>\n",
       "<thead><tr><th>float64</th><th>str4</th><th>float64</th><th>float64</th><th>int64</th><th>str2</th></tr></thead>\n",
       "<tr><td>58000.0072917</td><td>desr</td><td>901.260860307</td><td>800.137145009</td><td>30</td><td>ab</td></tr>\n",
       "<tr><td>58000.0208333</td><td>desr</td><td>-100.236707856</td><td>800.136975092</td><td>30</td><td>ab</td></tr>\n",
       "<tr><td>58000.090625</td><td>desr</td><td>1666.76067506</td><td>800.136102671</td><td>30</td><td>ab</td></tr>\n",
       "<tr><td>58000.1041667</td><td>desr</td><td>689.05850828</td><td>800.135934036</td><td>30</td><td>ab</td></tr>\n",
       "<tr><td>58000.1739583</td><td>desg</td><td>557.88044221</td><td>800.163644513</td><td>30</td><td>ab</td></tr>\n",
       "<tr><td>58000.1875</td><td>desg</td><td>1370.77551564</td><td>800.163441756</td><td>30</td><td>ab</td></tr>\n",
       "<tr><td>58000.215625</td><td>desg</td><td>1699.6531442</td><td>800.163021452</td><td>30</td><td>ab</td></tr>\n",
       "<tr><td>58000.2291667</td><td>desg</td><td>412.375392618</td><td>800.162819471</td><td>30</td><td>ab</td></tr>\n",
       "<tr><td>58000.2572917</td><td>desg</td><td>265.7060515</td><td>800.162400779</td><td>30</td><td>ab</td></tr>\n",
       "<tr><td>58000.2708333</td><td>desg</td><td>-1338.63638976</td><td>800.162199575</td><td>30</td><td>ab</td></tr>\n",
       "<tr><td>...</td><td>...</td><td>...</td><td>...</td><td>...</td><td>...</td></tr>\n",
       "<tr><td>58004.0901042</td><td>desr</td><td>382.057936867</td><td>800.094898482</td><td>30</td><td>ab</td></tr>\n",
       "<tr><td>58004.1036458</td><td>desr</td><td>-634.686812429</td><td>800.094788008</td><td>30</td><td>ab</td></tr>\n",
       "<tr><td>58004.1734375</td><td>desg</td><td>442.597431266</td><td>800.114156798</td><td>30</td><td>ab</td></tr>\n",
       "<tr><td>58004.1869792</td><td>desg</td><td>560.077728627</td><td>800.114024413</td><td>30</td><td>ab</td></tr>\n",
       "<tr><td>58004.2151042</td><td>desg</td><td>502.066269281</td><td>800.113750217</td><td>30</td><td>ab</td></tr>\n",
       "<tr><td>58004.2286458</td><td>desg</td><td>285.420230407</td><td>800.113618562</td><td>30</td><td>ab</td></tr>\n",
       "<tr><td>58004.2567708</td><td>desg</td><td>-773.702549892</td><td>800.113345882</td><td>30</td><td>ab</td></tr>\n",
       "<tr><td>58004.2703125</td><td>desg</td><td>102.861068073</td><td>800.113214957</td><td>30</td><td>ab</td></tr>\n",
       "<tr><td>58004.2984375</td><td>desg</td><td>-44.2063349148</td><td>800.112943795</td><td>30</td><td>ab</td></tr>\n",
       "<tr><td>58004.3119792</td><td>desg</td><td>130.586648386</td><td>800.1128136</td><td>30</td><td>ab</td></tr>\n",
       "</table>"
      ],
      "text/plain": [
       "<Table length=60>\n",
       "     time     band      flux         fluxerr      zp  zpsys\n",
       "   float64    str4    float64        float64    int64  str2\n",
       "------------- ---- -------------- ------------- ----- -----\n",
       "58000.0072917 desr  901.260860307 800.137145009    30    ab\n",
       "58000.0208333 desr -100.236707856 800.136975092    30    ab\n",
       " 58000.090625 desr  1666.76067506 800.136102671    30    ab\n",
       "58000.1041667 desr   689.05850828 800.135934036    30    ab\n",
       "58000.1739583 desg   557.88044221 800.163644513    30    ab\n",
       "   58000.1875 desg  1370.77551564 800.163441756    30    ab\n",
       " 58000.215625 desg   1699.6531442 800.163021452    30    ab\n",
       "58000.2291667 desg  412.375392618 800.162819471    30    ab\n",
       "58000.2572917 desg    265.7060515 800.162400779    30    ab\n",
       "58000.2708333 desg -1338.63638976 800.162199575    30    ab\n",
       "          ...  ...            ...           ...   ...   ...\n",
       "58004.0901042 desr  382.057936867 800.094898482    30    ab\n",
       "58004.1036458 desr -634.686812429 800.094788008    30    ab\n",
       "58004.1734375 desg  442.597431266 800.114156798    30    ab\n",
       "58004.1869792 desg  560.077728627 800.114024413    30    ab\n",
       "58004.2151042 desg  502.066269281 800.113750217    30    ab\n",
       "58004.2286458 desg  285.420230407 800.113618562    30    ab\n",
       "58004.2567708 desg -773.702549892 800.113345882    30    ab\n",
       "58004.2703125 desg  102.861068073 800.113214957    30    ab\n",
       "58004.2984375 desg -44.2063349148 800.112943795    30    ab\n",
       "58004.3119792 desg  130.586648386   800.1128136    30    ab"
      ]
     },
     "execution_count": 28,
     "metadata": {},
     "output_type": "execute_result"
    }
   ],
   "source": [
    "lcs[0]"
   ]
  },
  {
   "cell_type": "code",
   "execution_count": null,
   "metadata": {
    "collapsed": true
   },
   "outputs": [],
   "source": []
  }
 ],
 "metadata": {
  "kernelspec": {
   "display_name": "Python 2",
   "language": "python",
   "name": "python2"
  },
  "language_info": {
   "codemirror_mode": {
    "name": "ipython",
    "version": 2
   },
   "file_extension": ".py",
   "mimetype": "text/x-python",
   "name": "python",
   "nbconvert_exporter": "python",
   "pygments_lexer": "ipython2",
   "version": "2.7.6"
  }
 },
 "nbformat": 4,
 "nbformat_minor": 0
}
