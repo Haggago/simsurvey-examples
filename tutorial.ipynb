{
 "cells": [
  {
   "cell_type": "markdown",
   "metadata": {},
   "source": [
    "# Tutorial: Generating Macronova lightcurves based on ztf_sim output \n",
    "\n",
    "This notebook shows how to load the output for Eric's survey simulator `ztf_sim` and generate Macronova lightcurves for it using an SED from Rosswog et al. (2016). (Check out the other notebooks for examples how to simulate other transients.)\n",
    "\n",
    "*Note:* You need to download Eric's newest sample output [here](ftp://ftp.astro.caltech.edu/users/ebellm/one_year_sim_incomplete.db). The link was also included in Eric's email, so you will likely only need to change the path below.\n",
    "\n",
    "Furthermore you'll require the dust map from Schlegel, Finkbeiner & Davis (1998) for full functionality. It can be found [here](https://github.com/kbarbary/sfddata/archive/master.tar.gz)."
   ]
  },
  {
   "cell_type": "code",
   "execution_count": 1,
   "metadata": {
    "collapsed": true
   },
   "outputs": [],
   "source": [
    "import os\n",
    "home_dir = os.environ.get('HOME')\n",
    "\n",
    "# Please enter the filename of the ztf_sim output file you would like to use. The example first determines\n",
    "# your home directory and then uses a relative path (useful if working on several machines with different usernames)\n",
    "survey_file = os.path.join(home_dir, 'data/ZTF/one_year_sim_incomplete.db')\n",
    "\n",
    "# Please enter the path to where you have placed the Schlegel, Finkbeiner & Davis (1998) dust map files\n",
    "# You can also set the environment variable SFD_DIR to this path (in that case the variable below should be None)\n",
    "sfd98_dir = os.path.join(home_dir, 'data/sfd98')"
   ]
  },
  {
   "cell_type": "code",
   "execution_count": 2,
   "metadata": {
    "collapsed": false
   },
   "outputs": [],
   "source": [
    "import numpy as np\n",
    "import matplotlib.pyplot as plt\n",
    "%matplotlib inline\n",
    "\n",
    "import simsurvey\n",
    "import sncosmo\n",
    "from astropy.cosmology import Planck15"
   ]
  },
  {
   "cell_type": "code",
   "execution_count": 3,
   "metadata": {
    "collapsed": true
   },
   "outputs": [],
   "source": [
    "# Load the CCD corners from file\n",
    "ccd_corners = np.genfromtxt('data/ZTF_corners.txt')\n",
    "ccds = [ccd_corners[4*k+16:4*k+20] for k in range(16)]"
   ]
  },
  {
   "cell_type": "code",
   "execution_count": 4,
   "metadata": {
    "collapsed": false
   },
   "outputs": [],
   "source": [
    "# Load simulated survey from file (download from ftp://ftp.astro.caltech.edu/users/ebellm/one_year_sim_incomplete.db)\n",
    "# Currently DES filters are used as proxies for ZTF filters\n",
    "plan = simsurvey.SurveyPlan(load_opsim=survey_file, band_dict={'g': 'desg', 'r': 'desr'}, ccds=ccds)\n",
    "\n",
    "mjd_range = (plan.cadence['time'].min(), plan.cadence['time'].max())"
   ]
  },
  {
   "cell_type": "code",
   "execution_count": 5,
   "metadata": {
    "collapsed": false
   },
   "outputs": [
    {
     "data": {
      "text/html": [
       "&lt;Table length=75850&gt;\n",
       "<table id=\"table139929481666064\" class=\"table-striped table-bordered table-condensed\">\n",
       "<thead><tr><th>time</th><th>band</th><th>skynoise</th><th>RA</th><th>Dec</th><th>field</th></tr></thead>\n",
       "<thead><tr><th>float64</th><th>str4</th><th>float64</th><th>float64</th><th>float64</th><th>int64</th></tr></thead>\n",
       "<tr><td>57391.1532438</td><td>desr</td><td>466.328956285</td><td>40.25</td><td>24.83077</td><td>611</td></tr>\n",
       "<tr><td>57391.1537067</td><td>desr</td><td>466.328956285</td><td>40.25</td><td>24.83077</td><td>611</td></tr>\n",
       "<tr><td>57391.1541697</td><td>desr</td><td>466.328956285</td><td>40.25</td><td>24.83077</td><td>611</td></tr>\n",
       "<tr><td>57391.1546835</td><td>desr</td><td>466.147740547</td><td>42.04348</td><td>31.75385</td><td>659</td></tr>\n",
       "<tr><td>57391.1551464</td><td>desr</td><td>466.147740547</td><td>42.04348</td><td>31.75385</td><td>659</td></tr>\n",
       "<tr><td>57391.155704</td><td>desr</td><td>467.844452779</td><td>47.75</td><td>24.83077</td><td>612</td></tr>\n",
       "<tr><td>57391.1561669</td><td>desr</td><td>467.844452779</td><td>47.75</td><td>24.83077</td><td>612</td></tr>\n",
       "<tr><td>57391.1567046</td><td>desr</td><td>472.272919804</td><td>55.25</td><td>24.83077</td><td>613</td></tr>\n",
       "<tr><td>57391.1571676</td><td>desr</td><td>472.272919804</td><td>55.25</td><td>24.83077</td><td>613</td></tr>\n",
       "<tr><td>57391.1576602</td><td>desr</td><td>476.713569046</td><td>62.7500000002</td><td>24.83077</td><td>614</td></tr>\n",
       "<tr><td>...</td><td>...</td><td>...</td><td>...</td><td>...</td><td>...</td></tr>\n",
       "<tr><td>57583.458707</td><td>desr</td><td>767.734994746</td><td>49.76923</td><td>45.6</td><td>747</td></tr>\n",
       "<tr><td>57583.4591699</td><td>desr</td><td>767.734994746</td><td>49.76923</td><td>45.6</td><td>747</td></tr>\n",
       "<tr><td>57583.4617756</td><td>desr</td><td>1432.52750944</td><td>71.8571400002</td><td>38.67692</td><td>708</td></tr>\n",
       "<tr><td>57583.4810293</td><td>desr</td><td>2133.56806895</td><td>70.2500000002</td><td>24.83077</td><td>615</td></tr>\n",
       "<tr><td>57583.4814922</td><td>desr</td><td>2133.56806895</td><td>70.2500000002</td><td>24.83077</td><td>615</td></tr>\n",
       "<tr><td>57583.4819552</td><td>desr</td><td>2133.56806895</td><td>70.2500000002</td><td>24.83077</td><td>615</td></tr>\n",
       "<tr><td>57583.4843289</td><td>desr</td><td>2461.52535133</td><td>32.75</td><td>-23.63077</td><td>258</td></tr>\n",
       "<tr><td>57583.4847918</td><td>desr</td><td>2461.52535133</td><td>32.75</td><td>-23.63077</td><td>258</td></tr>\n",
       "<tr><td>57583.4853699</td><td>desr</td><td>2780.44991862</td><td>59.0000000002</td><td>4.06154</td><td>462</td></tr>\n",
       "<tr><td>57583.4858329</td><td>desr</td><td>2780.44991862</td><td>59.0000000002</td><td>4.06154</td><td>462</td></tr>\n",
       "</table>"
      ],
      "text/plain": [
       "<Table length=75850>\n",
       "     time     band    skynoise         RA         Dec    field\n",
       "   float64    str4    float64       float64     float64  int64\n",
       "------------- ---- ------------- ------------- --------- -----\n",
       "57391.1532438 desr 466.328956285         40.25  24.83077   611\n",
       "57391.1537067 desr 466.328956285         40.25  24.83077   611\n",
       "57391.1541697 desr 466.328956285         40.25  24.83077   611\n",
       "57391.1546835 desr 466.147740547      42.04348  31.75385   659\n",
       "57391.1551464 desr 466.147740547      42.04348  31.75385   659\n",
       " 57391.155704 desr 467.844452779         47.75  24.83077   612\n",
       "57391.1561669 desr 467.844452779         47.75  24.83077   612\n",
       "57391.1567046 desr 472.272919804         55.25  24.83077   613\n",
       "57391.1571676 desr 472.272919804         55.25  24.83077   613\n",
       "57391.1576602 desr 476.713569046 62.7500000002  24.83077   614\n",
       "          ...  ...           ...           ...       ...   ...\n",
       " 57583.458707 desr 767.734994746      49.76923      45.6   747\n",
       "57583.4591699 desr 767.734994746      49.76923      45.6   747\n",
       "57583.4617756 desr 1432.52750944 71.8571400002  38.67692   708\n",
       "57583.4810293 desr 2133.56806895 70.2500000002  24.83077   615\n",
       "57583.4814922 desr 2133.56806895 70.2500000002  24.83077   615\n",
       "57583.4819552 desr 2133.56806895 70.2500000002  24.83077   615\n",
       "57583.4843289 desr 2461.52535133         32.75 -23.63077   258\n",
       "57583.4847918 desr 2461.52535133         32.75 -23.63077   258\n",
       "57583.4853699 desr 2780.44991862 59.0000000002   4.06154   462\n",
       "57583.4858329 desr 2780.44991862 59.0000000002   4.06154   462"
      ]
     },
     "execution_count": 5,
     "metadata": {},
     "output_type": "execute_result"
    }
   ],
   "source": [
    "# To review the pointing schedule, you can use this table\n",
    "plan.cadence"
   ]
  },
  {
   "cell_type": "markdown",
   "metadata": {},
   "source": [
    "## Transient Model\n",
    "In this example the transient model is create from an ASCII file. Alternatively you could use the built-in SN models of sncosmo or the Blackbody model provided in simsurvey."
   ]
  },
  {
   "cell_type": "code",
   "execution_count": 6,
   "metadata": {
    "collapsed": false
   },
   "outputs": [],
   "source": [
    "# Load phase, wavelengths and flux from file\n",
    "phase, wave, flux = sncosmo.read_griddata_ascii('data/macronova_sed_wind20.dat')\n",
    "\n",
    "# Create a time series source\n",
    "source = sncosmo.TimeSeriesSource(phase, wave, flux)\n",
    "\n",
    "# Create the model that combines SED and propagation effects\n",
    "dust = sncosmo.CCM89Dust()\n",
    "model = sncosmo.Model(source=source,\n",
    "                      effects=[dust],\n",
    "                      effect_names=['host'],\n",
    "                      effect_frames=['rest'])"
   ]
  },
  {
   "cell_type": "markdown",
   "metadata": {},
   "source": [
    "## Transient dostribution\n",
    "You need to define a function that draws the model parameters (except z and t0) from a random distribution.\n",
    "In this case only host exinction is random but in addition the amplitude of each MN must be scaled for its luminosity distance."
   ]
  },
  {
   "cell_type": "code",
   "execution_count": 7,
   "metadata": {
    "collapsed": true
   },
   "outputs": [],
   "source": [
    "def random_parameters(redshifts, model,\n",
    "                      r_v=2., ebv_rate=0.11,\n",
    "                      **kwargs):\n",
    "    cosmo = Planck15\n",
    "    \n",
    "    # Amplitude\n",
    "    amp = []\n",
    "    for z in redshifts:\n",
    "        d_l = cosmo.luminosity_distance(z).value * 1e5\n",
    "        amp.append(d_l**-2)\n",
    "\n",
    "    return {\n",
    "        'amplitude': np.array(amp),\n",
    "        'hostr_v': r_v * np.ones(len(redshifts)),\n",
    "        'hostebv': np.random.exponential(ebv_rate, len(redshifts))\n",
    "    }"
   ]
  },
  {
   "cell_type": "markdown",
   "metadata": {},
   "source": [
    "## TransientGenerator\n",
    "The transient generator combines model and ditribution, and randomly draws all parameters needed to simulate the lightcurves.\n",
    "\n",
    "(Note that here we also set the volumetric rate as funtion of z. For macronovae, a good guess would be $3\\cdot 10^{-7}~\\textrm{Mpc}^{-3}~\\textrm{yr}^{-1}$ but this would only results in a couple of observed macronovae. For this example we'll use a 100 times larger rate.)"
   ]
  },
  {
   "cell_type": "code",
   "execution_count": 8,
   "metadata": {
    "collapsed": false
   },
   "outputs": [],
   "source": [
    "transientprop = dict(lcmodel=model,\n",
    "                    lcsimul_func=random_parameters)\n",
    "\n",
    "mjd_range = (plan.cadence['time'].min(), plan.cadence['time'].max())\n",
    "\n",
    "tr = simsurvey.get_transient_generator([0.0, 0.05], ratekind='custom',\n",
    "                                       ratefunc=lambda z: 3e-5,\n",
    "                                       dec_range=[-30,90],\n",
    "                                       mjd_range=[mjd_range[0] - 20,\n",
    "                                                  mjd_range[1]],\n",
    "                                       transientprop=transientprop,\n",
    "                                       sfd98_dir=sfd98_dir)"
   ]
  },
  {
   "cell_type": "markdown",
   "metadata": {},
   "source": [
    "## SimulSurvey\n",
    "Lastly, all parts are combined in a SimulSurvey object that will generate the lightcurves.\n",
    "(This may take about a minute or two.)"
   ]
  },
  {
   "cell_type": "code",
   "execution_count": 9,
   "metadata": {
    "collapsed": false
   },
   "outputs": [
    {
     "name": "stdout",
     "output_type": "stream",
     "text": [
      "Determining field IDs for all objects\n",
      "\n",
      "Generating lightcurves\n",
      "\n"
     ]
    }
   ],
   "source": [
    "instprop = {\"desg\":{\"gain\":1.,\"zp\":30,\"zpsys\":'ab'},\n",
    "            \"desr\":{\"gain\":1.,\"zp\":30,\"zpsys\":'ab'}}\n",
    "\n",
    "survey = simsurvey.SimulSurvey(generator=tr, plan=plan, instprop=instprop)\n",
    "    \n",
    "lcs = survey.get_lightcurves(\n",
    "    progress_bar=True # If you get an error because of the progress_bar, delete this line.\n",
    ")"
   ]
  },
  {
   "cell_type": "code",
   "execution_count": null,
   "metadata": {
    "collapsed": false
   },
   "outputs": [],
   "source": [
    "lcs[0]"
   ]
  },
  {
   "cell_type": "code",
   "execution_count": null,
   "metadata": {
    "collapsed": false
   },
   "outputs": [],
   "source": [
    "lc = lcs[0]"
   ]
  },
  {
   "cell_type": "code",
   "execution_count": null,
   "metadata": {
    "collapsed": false
   },
   "outputs": [],
   "source": [
    "lc.as_array()"
   ]
  },
  {
   "cell_type": "markdown",
   "metadata": {},
   "source": [
    "## Analysing the output\n",
    "\n",
    "The output of `get_lightcurves()` is a `LightcurveCollection` object. Below are some examples how to assess survey statistics based on this.\n",
    "\n",
    "The first skyplot shows all macronovae that were active when a field was observed (but they may have been too faint to be detected). The second skyplot shows the macronovae that had at least one observation with S/N > 5. "
   ]
  },
  {
   "cell_type": "code",
   "execution_count": null,
   "metadata": {
    "collapsed": false
   },
   "outputs": [],
   "source": [
    "idx = lcs.meta['idx_orig']\n",
    "n_obs = np.zeros(survey.generator.ntransient)\n",
    "n_obs[idx] = np.array([len(a) for a in lcs])\n",
    "\n",
    "survey.generator.show_skycoverage(cscale=n_obs, cblabel=\"Number of pointings\", mask=idx)\n",
    "print 'MNe pointed to: %i out of %i'%(np.sum(n_obs > 0), survey.generator.ntransient)"
   ]
  },
  {
   "cell_type": "code",
   "execution_count": null,
   "metadata": {
    "collapsed": false
   },
   "outputs": [],
   "source": [
    "lcs_det = [lc[lc['flux']/lc['fluxerr'] > 5] for lc in lcs]\n",
    "\n",
    "idx_det = lcs.meta['idx_orig'][np.array([len(lc) > 0 for lc in lcs_det])]\n",
    "n_det = np.zeros(survey.generator.ntransient)\n",
    "lcs_det = [lc for lc in lcs_det if len(lc) > 0]\n",
    "n_det[idx_det] = np.array([len(lc) for lc in lcs_det])\n",
    "\n",
    "survey.generator.show_skycoverage(cscale=n_det, cblabel=\"Number of detections\", mask=idx_det)\n",
    "print 'MNe detected: %i out of %i'%(np.sum(n_det > 0), survey.generator.ntransient)"
   ]
  },
  {
   "cell_type": "markdown",
   "metadata": {},
   "source": [
    "You can inspect the lightcurves manually. This example should return the lightcurve with the most points with S/N > 5."
   ]
  },
  {
   "cell_type": "code",
   "execution_count": null,
   "metadata": {
    "collapsed": false
   },
   "outputs": [],
   "source": [
    "k = np.where(lcs.meta['idx_orig'] == np.where(n_det == n_det.max())[0][0])[0][0]\n",
    "lcs[k]"
   ]
  },
  {
   "cell_type": "code",
   "execution_count": null,
   "metadata": {
    "collapsed": false
   },
   "outputs": [],
   "source": [
    "_ = sncosmo.plot_lc(lcs[k])"
   ]
  },
  {
   "cell_type": "markdown",
   "metadata": {},
   "source": [
    "The two last figures show how early the MNe are detected and at what redshifts."
   ]
  },
  {
   "cell_type": "code",
   "execution_count": null,
   "metadata": {
    "collapsed": false
   },
   "outputs": [],
   "source": [
    "z = np.array([lc.meta['z'] for lc in lcs_det])\n",
    "p_i = np.array([lc['time'].min() - lc.meta['t0'] for lc in lcs_det])\n",
    "p_e = np.array([lc['time'].max() - lc.meta['t0'] for lc in lcs_det])\n",
    "\n",
    "plt.hist(p_i, lw=2, histtype='step', range=(0,10), bins=20)\n",
    "print 'SNe found before peak:', np.sum(p_i < 0)\n",
    "plt.xlabel('Detection phase (observer-frame)', fontsize='x-large')\n",
    "plt.ylabel(r'$N_{SNe}$', fontsize='x-large')"
   ]
  },
  {
   "cell_type": "code",
   "execution_count": null,
   "metadata": {
    "collapsed": false
   },
   "outputs": [],
   "source": [
    "n = np.array([len(lc) for lc in lcs_det])\n",
    "snr_max = np.array([max(lc['flux']/lc['fluxerr']) for lc in lcs_det])\n",
    "plt.hist(z, lw=2, histtype='step', range=(0,0.05),bins=20)\n",
    "plt.xlabel('Redshift', fontsize='x-large')\n",
    "plt.ylabel(r'$N_{SNe}$', fontsize='x-large')\n",
    "_ = plt.xlim((0, 0.05))"
   ]
  },
  {
   "cell_type": "code",
   "execution_count": null,
   "metadata": {
    "collapsed": true
   },
   "outputs": [],
   "source": []
  }
 ],
 "metadata": {
  "kernelspec": {
   "display_name": "Python 2",
   "language": "python",
   "name": "python2"
  },
  "language_info": {
   "codemirror_mode": {
    "name": "ipython",
    "version": 2
   },
   "file_extension": ".py",
   "mimetype": "text/x-python",
   "name": "python",
   "nbconvert_exporter": "python",
   "pygments_lexer": "ipython2",
   "version": "2.7.6"
  },
  "widgets": {
   "state": {
    "49e11bb4362247d2b602e39af9b41112": {
     "views": [
      {
       "cell_index": 13
      }
     ]
    },
    "870aa7f4ddfc4c0c9e80c0a617914e58": {
     "views": [
      {
       "cell_index": 13
      }
     ]
    },
    "e6034d6b04da49fc968877d8dc373834": {
     "views": [
      {
       "cell_index": 13
      }
     ]
    }
   },
   "version": "1.2.0"
  }
 },
 "nbformat": 4,
 "nbformat_minor": 0
}
