{
 "cells": [
  {
   "cell_type": "markdown",
   "metadata": {},
   "source": [
    "# Tutorial: Generating type Ia supernova lightcurves based on ztf_sim output \n",
    "\n",
    "This notebook shows how to load the output for Eric's survey simulator `ztf_sim` and generate SN Ia lightcurves using the SALT2 template. (Check out the other notebooks for examples how to simulate other transients.)\n",
    "\n",
    "*Note:* You need to download Eric's newest sample output [here](https://drive.google.com/file/d/1sB6r21ALG7ZKetvE734JS-UpLa3iwWSz/view). The link was also included in Eric's email, so you will likely only need to change the path below.\n",
    "\n",
    "Furthermore you'll require the dust map from Schlegel, Finkbeiner & Davis (1998) for full functionality. It can be found [here](https://github.com/kbarbary/sfddata/archive/master.tar.gz)."
   ]
  },
  {
   "cell_type": "code",
   "execution_count": 1,
   "metadata": {},
   "outputs": [],
   "source": [
    "import os\n",
    "home_dir = os.environ.get('HOME')\n",
    "\n",
    "# Please enter the filename of the ztf_sim output file you would like to use. The example first determines\n",
    "# your home directory and then uses a relative path (useful if working on several machines with different usernames)\n",
    "survey_file = os.path.join(home_dir, 'data/ZTF/test_schedule_v6.db')\n",
    "\n",
    "# Please enter the path to where you have placed the Schlegel, Finkbeiner & Davis (1998) dust map files\n",
    "# You can also set the environment variable SFD_DIR to this path (in that case the variable below should be None)\n",
    "sfd98_dir = os.path.join(home_dir, 'data/sfd98')"
   ]
  },
  {
   "cell_type": "code",
   "execution_count": 2,
   "metadata": {},
   "outputs": [],
   "source": [
    "import numpy as np\n",
    "import matplotlib.pyplot as plt\n",
    "%matplotlib inline\n",
    "\n",
    "import simsurvey\n",
    "import sncosmo\n",
    "from astropy.cosmology import Planck15\n",
    "\n",
    "import simsurvey_tools as sst "
   ]
  },
  {
   "cell_type": "code",
   "execution_count": 3,
   "metadata": {},
   "outputs": [],
   "source": [
    "# Load the ZTF CCD corners and filters\n",
    "ccds = sst.load_ztf_ccds()\n",
    "sst.load_ztf_filters()"
   ]
  },
  {
   "cell_type": "code",
   "execution_count": 4,
   "metadata": {},
   "outputs": [],
   "source": [
    "# Load simulated survey from file (download from ftp://ftp.astro.caltech.edu/users/ebellm/one_year_sim_incomplete.db)\n",
    "# Currently DES filters are used as proxies for ZTF filters\n",
    "plan = simsurvey.SurveyPlan(load_opsim=survey_file, band_dict={'g': 'ztfg', 'r': 'ztfr', 'i': 'desi'}, ccds=ccds)\n",
    "\n",
    "mjd_range = (plan.cadence['time'].min() - 30, plan.cadence['time'].max() + 30)"
   ]
  },
  {
   "cell_type": "code",
   "execution_count": 5,
   "metadata": {},
   "outputs": [
    {
     "data": {
      "text/html": [
       "&lt;Table length=128477&gt;\n",
       "<table id=\"table140155397529936\" class=\"table-striped table-bordered table-condensed\">\n",
       "<thead><tr><th>time</th><th>band</th><th>zp</th><th>skynoise</th><th>RA</th><th>Dec</th><th>field</th><th>comment</th></tr></thead>\n",
       "<thead><tr><th>float64</th><th>str4</th><th>int64</th><th>float64</th><th>float64</th><th>float64</th><th>int64</th><th>unicode13</th></tr></thead>\n",
       "<tr><td>57433.16732874228</td><td>ztfr</td><td>30</td><td>1235.458254793129</td><td>97.27032</td><td>-24.25</td><td>258</td><td>all_sky</td></tr>\n",
       "<tr><td>57433.167791705244</td><td>ztfr</td><td>30</td><td>1032.4155614033896</td><td>93.69218000000001</td><td>-17.05</td><td>307</td><td>all_sky</td></tr>\n",
       "<tr><td>57433.16825466821</td><td>ztfr</td><td>30</td><td>831.1606554753829</td><td>96.84022</td><td>-9.85</td><td>358</td><td>all_sky</td></tr>\n",
       "<tr><td>57433.16874926458</td><td>ztfr</td><td>30</td><td>768.014325534311</td><td>89.36968</td><td>4.55</td><td>459</td><td>all_sky</td></tr>\n",
       "<tr><td>57433.16922019285</td><td>ztfr</td><td>30</td><td>754.6151413469311</td><td>85.58463</td><td>11.75</td><td>511</td><td>all_sky</td></tr>\n",
       "<tr><td>57433.169683155815</td><td>ztfr</td><td>30</td><td>845.7393295485028</td><td>82.3588</td><td>4.55</td><td>458</td><td>all_sky</td></tr>\n",
       "<tr><td>57433.170146118784</td><td>ztfr</td><td>30</td><td>754.6151413469311</td><td>85.58463</td><td>11.75</td><td>511</td><td>all_sky</td></tr>\n",
       "<tr><td>57433.170609081746</td><td>ztfr</td><td>30</td><td>717.2561184374863</td><td>88.37309</td><td>18.95</td><td>562</td><td>nightly_plane</td></tr>\n",
       "<tr><td>57433.171118378836</td><td>ztfr</td><td>30</td><td>666.0616637410405</td><td>91.24686</td><td>26.15</td><td>612</td><td>all_sky</td></tr>\n",
       "<tr><td>57433.171581341805</td><td>ztfr</td><td>30</td><td>666.0616637410405</td><td>91.24686</td><td>26.15</td><td>612</td><td>nightly_plane</td></tr>\n",
       "<tr><td>...</td><td>...</td><td>...</td><td>...</td><td>...</td><td>...</td><td>...</td><td>...</td></tr>\n",
       "<tr><td>57706.412179100786</td><td>ztfg</td><td>30</td><td>1488.6673139116613</td><td>77.14286</td><td>69.35</td><td>837</td><td>all_sky</td></tr>\n",
       "<tr><td>57706.412662422554</td><td>ztfg</td><td>30</td><td>1553.2412492840326</td><td>86.66667</td><td>62.15</td><td>812</td><td>all_sky</td></tr>\n",
       "<tr><td>57706.413125385516</td><td>ztfg</td><td>30</td><td>1444.0299666000349</td><td>82.05244</td><td>54.95</td><td>780</td><td>all_sky</td></tr>\n",
       "<tr><td>57706.41358834848</td><td>ztfg</td><td>30</td><td>1416.8038457841542</td><td>81.85354</td><td>47.75</td><td>744</td><td>all_sky</td></tr>\n",
       "<tr><td>57706.41410365161</td><td>ztfg</td><td>30</td><td>1432.9529756928375</td><td>80.23141</td><td>40.55</td><td>703</td><td>nightly_plane</td></tr>\n",
       "<tr><td>57706.414577398355</td><td>ztfg</td><td>30</td><td>1467.573127836216</td><td>72.25385</td><td>47.75</td><td>743</td><td>nightly_plane</td></tr>\n",
       "<tr><td>57706.41505362554</td><td>ztfg</td><td>30</td><td>1463.5433399764709</td><td>71.12768</td><td>54.95</td><td>779</td><td>nightly_plane</td></tr>\n",
       "<tr><td>57706.41552502806</td><td>ztfg</td><td>30</td><td>1550.0105689728268</td><td>73.33333</td><td>62.15</td><td>811</td><td>all_sky</td></tr>\n",
       "<tr><td>57706.41602904431</td><td>ztfg</td><td>30</td><td>1578.2440111564354</td><td>59.99999999999999</td><td>76.55</td><td>856</td><td>all_sky</td></tr>\n",
       "<tr><td>57706.41649200727</td><td>ztfg</td><td>30</td><td>1677.4881922112043</td><td>59.99999999999999</td><td>69.35</td><td>836</td><td>all_sky</td></tr>\n",
       "</table>"
      ],
      "text/plain": [
       "<Table length=128477>\n",
       "       time        band   zp       skynoise      ...   Dec   field    comment   \n",
       "     float64       str4 int64      float64       ... float64 int64   unicode13  \n",
       "------------------ ---- ----- ------------------ ... ------- ----- -------------\n",
       " 57433.16732874228 ztfr    30  1235.458254793129 ...  -24.25   258       all_sky\n",
       "57433.167791705244 ztfr    30 1032.4155614033896 ...  -17.05   307       all_sky\n",
       " 57433.16825466821 ztfr    30  831.1606554753829 ...   -9.85   358       all_sky\n",
       " 57433.16874926458 ztfr    30   768.014325534311 ...    4.55   459       all_sky\n",
       " 57433.16922019285 ztfr    30  754.6151413469311 ...   11.75   511       all_sky\n",
       "57433.169683155815 ztfr    30  845.7393295485028 ...    4.55   458       all_sky\n",
       "57433.170146118784 ztfr    30  754.6151413469311 ...   11.75   511       all_sky\n",
       "57433.170609081746 ztfr    30  717.2561184374863 ...   18.95   562 nightly_plane\n",
       "57433.171118378836 ztfr    30  666.0616637410405 ...   26.15   612       all_sky\n",
       "57433.171581341805 ztfr    30  666.0616637410405 ...   26.15   612 nightly_plane\n",
       "               ...  ...   ...                ... ...     ...   ...           ...\n",
       "57706.412179100786 ztfg    30 1488.6673139116613 ...   69.35   837       all_sky\n",
       "57706.412662422554 ztfg    30 1553.2412492840326 ...   62.15   812       all_sky\n",
       "57706.413125385516 ztfg    30 1444.0299666000349 ...   54.95   780       all_sky\n",
       " 57706.41358834848 ztfg    30 1416.8038457841542 ...   47.75   744       all_sky\n",
       " 57706.41410365161 ztfg    30 1432.9529756928375 ...   40.55   703 nightly_plane\n",
       "57706.414577398355 ztfg    30  1467.573127836216 ...   47.75   743 nightly_plane\n",
       " 57706.41505362554 ztfg    30 1463.5433399764709 ...   54.95   779 nightly_plane\n",
       " 57706.41552502806 ztfg    30 1550.0105689728268 ...   62.15   811       all_sky\n",
       " 57706.41602904431 ztfg    30 1578.2440111564354 ...   76.55   856       all_sky\n",
       " 57706.41649200727 ztfg    30 1677.4881922112043 ...   69.35   836       all_sky"
      ]
     },
     "execution_count": 5,
     "metadata": {},
     "output_type": "execute_result"
    }
   ],
   "source": [
    "# To review the pointing schedule, you can use this table\n",
    "plan.pointings"
   ]
  },
  {
   "cell_type": "markdown",
   "metadata": {},
   "source": [
    "## TransientGenerator\n",
    "The transient generator combines a model and a distribution representing the transient population, and randomly draws all parameters needed to simulate the lightcurves. For well studied transient types, e.g. SNe Ia, models and generators have been predefined for easy use.\n",
    "\n",
    "Here the maximum redshift has been kept very low in order make the simulation short. In reality $z_{max} = 0.2$ would be more realistic."
   ]
  },
  {
   "cell_type": "code",
   "execution_count": 6,
   "metadata": {},
   "outputs": [],
   "source": [
    "tr = simsurvey.get_transient_generator((0.0, 0.05),\n",
    "                                       transient='Ia',\n",
    "                                       template='salt2',\n",
    "                                       dec_range=(-30,90),\n",
    "                                       mjd_range=(mjd_range[0],\n",
    "                                                  mjd_range[1]),\n",
    "                                       sfd98_dir=sfd98_dir)"
   ]
  },
  {
   "cell_type": "markdown",
   "metadata": {},
   "source": [
    "## SimulSurvey\n",
    "Lastly, all parts are combined in a SimulSurvey object that will generate the lightcurves.\n",
    "(This may take about a minute or two.)"
   ]
  },
  {
   "cell_type": "code",
   "execution_count": 7,
   "metadata": {},
   "outputs": [
    {
     "name": "stderr",
     "output_type": "stream",
     "text": [
      "/home/ufeindt/.local/lib/python2.7/site-packages/simsurvey-0.4.0-py2.7.egg/simsurvey/simulsurvey.py:1355: RuntimeWarning: invalid value encountered in log10\n"
     ]
    }
   ],
   "source": [
    "survey = simsurvey.SimulSurvey(generator=tr, plan=plan)\n",
    "    \n",
    "lcs = survey.get_lightcurves(\n",
    "    #progress_bar=True, notebook=True # If you get an error because of the progress_bar, delete this line.\n",
    ")"
   ]
  },
  {
   "cell_type": "code",
   "execution_count": 8,
   "metadata": {},
   "outputs": [
    {
     "data": {
      "text/plain": [
       "350"
      ]
     },
     "execution_count": 8,
     "metadata": {},
     "output_type": "execute_result"
    }
   ],
   "source": [
    "len(lcs.lcs)"
   ]
  },
  {
   "cell_type": "code",
   "execution_count": 9,
   "metadata": {},
   "outputs": [
    {
     "data": {
      "text/html": [
       "&lt;Table length=177&gt;\n",
       "<table id=\"table140154542579792\" class=\"table-striped table-bordered table-condensed\">\n",
       "<thead><tr><th>time</th><th>band</th><th>flux</th><th>fluxerr</th><th>zp</th><th>zpsys</th><th>field</th><th>ccd</th><th>comment</th></tr></thead>\n",
       "<thead><tr><th>float64</th><th>str4</th><th>float64</th><th>float64</th><th>int64</th><th>str2</th><th>int64</th><th>int64</th><th>unicode7</th></tr></thead>\n",
       "<tr><td>57551.445018122424</td><td>ztfg</td><td>2024.0255338498682</td><td>436.78312004535195</td><td>30</td><td>ab</td><td>690</td><td>8</td><td>all_sky</td></tr>\n",
       "<tr><td>57551.47332394582</td><td>ztfr</td><td>2339.522439281221</td><td>491.04553618173026</td><td>30</td><td>ab</td><td>690</td><td>8</td><td>all_sky</td></tr>\n",
       "<tr><td>57552.42489128937</td><td>ztfr</td><td>11281.8666337656</td><td>472.89603857374533</td><td>30</td><td>ab</td><td>690</td><td>8</td><td>all_sky</td></tr>\n",
       "<tr><td>57552.44623390818</td><td>ztfg</td><td>8664.782710347088</td><td>443.0017023078733</td><td>30</td><td>ab</td><td>690</td><td>8</td><td>all_sky</td></tr>\n",
       "<tr><td>57552.46824813182</td><td>ztfr</td><td>11440.430928533457</td><td>500.1070037642086</td><td>30</td><td>ab</td><td>690</td><td>8</td><td>all_sky</td></tr>\n",
       "<tr><td>57552.468711094785</td><td>ztfr</td><td>12106.589403582266</td><td>500.11261609355654</td><td>30</td><td>ab</td><td>690</td><td>8</td><td>all_sky</td></tr>\n",
       "<tr><td>57553.446264031285</td><td>ztfg</td><td>23149.665153266586</td><td>459.0185909022281</td><td>30</td><td>ab</td><td>690</td><td>8</td><td>all_sky</td></tr>\n",
       "<tr><td>57553.47789399839</td><td>ztfr</td><td>27503.32176647366</td><td>515.259341641885</td><td>30</td><td>ab</td><td>690</td><td>8</td><td>all_sky</td></tr>\n",
       "<tr><td>57553.47835696135</td><td>ztfr</td><td>28041.069004076533</td><td>515.268082280036</td><td>30</td><td>ab</td><td>690</td><td>8</td><td>all_sky</td></tr>\n",
       "<tr><td>57554.43032346158</td><td>ztfr</td><td>49400.379677909965</td><td>510.3594900293913</td><td>30</td><td>ab</td><td>690</td><td>8</td><td>all_sky</td></tr>\n",
       "<tr><td>...</td><td>...</td><td>...</td><td>...</td><td>...</td><td>...</td><td>...</td><td>...</td><td>...</td></tr>\n",
       "<tr><td>57615.33040988668</td><td>ztfr</td><td>149933.5595470008</td><td>898.688915245418</td><td>30</td><td>ab</td><td>690</td><td>8</td><td>all_sky</td></tr>\n",
       "<tr><td>57615.33087284964</td><td>ztfr</td><td>150887.54513318354</td><td>898.6873037650822</td><td>30</td><td>ab</td><td>690</td><td>8</td><td>all_sky</td></tr>\n",
       "<tr><td>57615.369698168826</td><td>ztfg</td><td>67728.49461080985</td><td>812.3607777647829</td><td>30</td><td>ab</td><td>690</td><td>8</td><td>all_sky</td></tr>\n",
       "<tr><td>57616.30697930057</td><td>ztfr</td><td>145096.39491699263</td><td>1077.186014626488</td><td>30</td><td>ab</td><td>690</td><td>8</td><td>all_sky</td></tr>\n",
       "<tr><td>57616.32955082128</td><td>ztfr</td><td>143671.87583750402</td><td>1073.4874912315959</td><td>30</td><td>ab</td><td>690</td><td>8</td><td>all_sky</td></tr>\n",
       "<tr><td>57616.330013784245</td><td>ztfr</td><td>143906.3541514381</td><td>1073.4862980014975</td><td>30</td><td>ab</td><td>690</td><td>8</td><td>all_sky</td></tr>\n",
       "<tr><td>57616.3379623132</td><td>ztfg</td><td>66917.95754288409</td><td>1003.9654823941937</td><td>30</td><td>ab</td><td>690</td><td>8</td><td>all_sky</td></tr>\n",
       "<tr><td>57621.37368562338</td><td>ztfr</td><td>125138.4849663137</td><td>1053.6272868883214</td><td>30</td><td>ab</td><td>690</td><td>8</td><td>all_sky</td></tr>\n",
       "<tr><td>57621.37414858634</td><td>ztfr</td><td>124396.51207002952</td><td>1053.626656831482</td><td>30</td><td>ab</td><td>690</td><td>8</td><td>all_sky</td></tr>\n",
       "<tr><td>57621.37807957876</td><td>ztfg</td><td>63959.23568376774</td><td>973.821734517659</td><td>30</td><td>ab</td><td>690</td><td>8</td><td>all_sky</td></tr>\n",
       "</table>"
      ],
      "text/plain": [
       "<Table length=177>\n",
       "       time        band        flux        ... field  ccd  comment \n",
       "     float64       str4      float64       ... int64 int64 unicode7\n",
       "------------------ ---- ------------------ ... ----- ----- --------\n",
       "57551.445018122424 ztfg 2024.0255338498682 ...   690     8  all_sky\n",
       " 57551.47332394582 ztfr  2339.522439281221 ...   690     8  all_sky\n",
       " 57552.42489128937 ztfr   11281.8666337656 ...   690     8  all_sky\n",
       " 57552.44623390818 ztfg  8664.782710347088 ...   690     8  all_sky\n",
       " 57552.46824813182 ztfr 11440.430928533457 ...   690     8  all_sky\n",
       "57552.468711094785 ztfr 12106.589403582266 ...   690     8  all_sky\n",
       "57553.446264031285 ztfg 23149.665153266586 ...   690     8  all_sky\n",
       " 57553.47789399839 ztfr  27503.32176647366 ...   690     8  all_sky\n",
       " 57553.47835696135 ztfr 28041.069004076533 ...   690     8  all_sky\n",
       " 57554.43032346158 ztfr 49400.379677909965 ...   690     8  all_sky\n",
       "               ...  ...                ... ...   ...   ...      ...\n",
       " 57615.33040988668 ztfr  149933.5595470008 ...   690     8  all_sky\n",
       " 57615.33087284964 ztfr 150887.54513318354 ...   690     8  all_sky\n",
       "57615.369698168826 ztfg  67728.49461080985 ...   690     8  all_sky\n",
       " 57616.30697930057 ztfr 145096.39491699263 ...   690     8  all_sky\n",
       " 57616.32955082128 ztfr 143671.87583750402 ...   690     8  all_sky\n",
       "57616.330013784245 ztfr  143906.3541514381 ...   690     8  all_sky\n",
       "  57616.3379623132 ztfg  66917.95754288409 ...   690     8  all_sky\n",
       " 57621.37368562338 ztfr  125138.4849663137 ...   690     8  all_sky\n",
       " 57621.37414858634 ztfr 124396.51207002952 ...   690     8  all_sky\n",
       " 57621.37807957876 ztfg  63959.23568376774 ...   690     8  all_sky"
      ]
     },
     "execution_count": 9,
     "metadata": {},
     "output_type": "execute_result"
    }
   ],
   "source": [
    "lcs[0]"
   ]
  },
  {
   "cell_type": "code",
   "execution_count": null,
   "metadata": {},
   "outputs": [],
   "source": []
  },
  {
   "cell_type": "markdown",
   "metadata": {},
   "source": [
    "## Analysing the output\n",
    "\n",
    "The output of `get_lightcurves()` is a `LightcurveCollection` object. Lightcurves are automatically filter, so only those that would be detected in the survey are kept.\n",
    "\n",
    "You can save a the lightcurves in a pickle file and load them again later without rerunning the simulation."
   ]
  },
  {
   "cell_type": "code",
   "execution_count": 10,
   "metadata": {},
   "outputs": [],
   "source": [
    "lcs.save('lcs_tutorial.pkl')"
   ]
  },
  {
   "cell_type": "code",
   "execution_count": 11,
   "metadata": {},
   "outputs": [],
   "source": [
    "lcs = simsurvey.LightcurveCollection(load='lcs_tutorial.pkl')"
   ]
  },
  {
   "cell_type": "markdown",
   "metadata": {},
   "source": [
    "You can inspect the lightcurves manually. This example should return the lightcurve with the most points with S/N > 5."
   ]
  },
  {
   "cell_type": "code",
   "execution_count": 12,
   "metadata": {},
   "outputs": [
    {
     "data": {
      "image/png": "[encoded data removed]",
      "text/plain": [
       "<matplotlib.figure.Figure at 0x7f7846f4fed0>"
      ]
     },
     "metadata": {},
     "output_type": "display_data"
    }
   ],
   "source": [
    "_ = sncosmo.plot_lc(lcs[0])"
   ]
  },
  {
   "cell_type": "markdown",
   "metadata": {},
   "source": [
    "The two figures below show how early the MNe are detected and at what redshifts. The simulation input parameters of transients that were not detected are also kept, so can check completeness. "
   ]
  },
  {
   "cell_type": "code",
   "execution_count": 13,
   "metadata": {},
   "outputs": [
    {
     "data": {
      "image/png": "[encoded data removed]",
      "text/plain": [
       "<matplotlib.figure.Figure at 0x7f7845ef2090>"
      ]
     },
     "metadata": {},
     "output_type": "display_data"
    }
   ],
   "source": [
    "plt.hist(lcs.stats['p_det'], lw=2, histtype='step', range=(-20,0), bins=20)\n",
    "plt.xlabel('Detection phase (observer-frame)', fontsize='x-large')\n",
    "_ = plt.ylabel(r'$N_{SNe}$', fontsize='x-large')"
   ]
  },
  {
   "cell_type": "code",
   "execution_count": 14,
   "metadata": {},
   "outputs": [
    {
     "data": {
      "text/plain": [
       "<matplotlib.legend.Legend at 0x7f7845ba0f10>"
      ]
     },
     "execution_count": 14,
     "metadata": {},
     "output_type": "execute_result"
    },
    {
     "data": {
      "image/png": "[encoded data removed]",
      "text/plain": [
       "<matplotlib.figure.Figure at 0x7f7845bb7550>"
      ]
     },
     "metadata": {},
     "output_type": "display_data"
    }
   ],
   "source": [
    "plt.hist(lcs.meta_full['z'], lw=1, histtype='step', range=(0,0.05), bins=20, label='all')\n",
    "plt.hist(lcs.meta['z'], lw=2, histtype='step', range=(0,0.05), bins=20, label='detected')\n",
    "plt.xlabel('Redshift', fontsize='x-large')\n",
    "plt.ylabel(r'$N_{SNe}$', fontsize='x-large')\n",
    "plt.xlim((0, 0.05))\n",
    "plt.legend()"
   ]
  },
  {
   "cell_type": "code",
   "execution_count": null,
   "metadata": {},
   "outputs": [],
   "source": []
  }
 ],
 "metadata": {
  "anaconda-cloud": {},
  "kernelspec": {
   "display_name": "Python [default]",
   "language": "python",
   "name": "python2"
  },
  "language_info": {
   "codemirror_mode": {
    "name": "ipython",
    "version": 2
   },
   "file_extension": ".py",
   "mimetype": "text/x-python",
   "name": "python",
   "nbconvert_exporter": "python",
   "pygments_lexer": "ipython2",
   "version": "2.7.14"
  }
 },
 "nbformat": 4,
 "nbformat_minor": 1
}
